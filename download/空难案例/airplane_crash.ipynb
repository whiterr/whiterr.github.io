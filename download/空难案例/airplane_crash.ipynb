{
 "cells": [
  {
   "cell_type": "markdown",
   "metadata": {},
   "source": [
    "飞机作为目前世上最快的交通工具，这一伟大的发明给人们带来了更为快捷的交通出行，但是也必然存在由于一些不可抗拒的原因（如飞鸟撞击）或人为因素（如劫机）造成的空难。全世界每年死于空难的大约1000人，而死于道路交通空难的达70万人，从这个意义讲，乘飞机也许是最安全的交通方式。但是一旦发生飞机失事，幸存者却寥寥无几。<br>\n",
    "本案例基于Socrata上的开放数据，数据集`Airplane_Crashes_and_Fatalities_Since_1908.csv`记录了全球自1908年以来的部分空难情况。我们对数据做探索分析：哪些年份的空难较多？哪些航空公司的空难较多? 哪些机型的空难较多? 生还和遇难人数如何？空难原因是什么？"
   ]
  },
  {
   "cell_type": "markdown",
   "metadata": {},
   "source": [
    "# 目录\n",
    "* 1.[数据说明和读取](#1.数据说明和读取)\n",
    "* 2.[空难数据的初步探索](#2.空难数据的初步探索)   \n",
    "* 3.[空难发生年份的分析](#3.空难发生年份的分析) \n",
    "* 4.[空难与航空公司的分析](#4.空难与航空公司的分析)\n",
    "* 5.[军用航班与民用航班的空难分析](#5.军用航班与民用航班的空难分析) \n",
    "* 6.[空难与飞机型号的分析](#6.空难与飞机型号的分析) \n",
    "* 7.[空难发生地点和航线的分析](#7.空难发生地点和航线的分析) \n",
    "* 8.[中国飞机的空难分析](#8.中国飞机的空难分析) \n",
    "* 9.[总结](#9.总结)"
   ]
  },
  {
   "cell_type": "markdown",
   "metadata": {},
   "source": [
    "# 1.数据说明和读取\n",
    "\n",
    "| 列名 | 类型 | 含义说明 \n",
    "| ------ | ------ |------ |\n",
    "|Date|object|日期\n",
    "|Time|object|时间\n",
    "|Location|object|空难发生地点\n",
    "|Operator|object|航空公司，以Military开头代表军用，其余为民用航空公司\n",
    "|Flight #|object|航班编号\n",
    "|Route|object|飞行航线\n",
    "|Type|object|飞机型号\n",
    "|Registration|object|注册编号\n",
    "|cn/In|object|结构或序列号/线路或机身编号\n",
    "|Aboard|float64|登机人数\n",
    "|Fatalities|float64|乘客遇难人数\n",
    "|Ground|float64|地面遇难人数\n",
    "|Summary|object|空难总结\n",
    "\n",
    "\n"
   ]
  },
  {
   "cell_type": "markdown",
   "metadata": {},
   "source": [
    "导入需要使用的Python库。"
   ]
  },
  {
   "cell_type": "code",
   "execution_count": 254,
   "metadata": {
    "scrolled": true
   },
   "outputs": [
    {
     "name": "stdout",
     "output_type": "stream",
     "text": [
      "(5268, 13)\n"
     ]
    }
   ],
   "source": [
    "import pandas as pd\n",
    "import seaborn as sns\n",
    "import matplotlib.pyplot as plt\n",
    "import numpy as np\n",
    "plt.rcParams['font.sans-serif'] = ['SimHei']\n",
    "plt.rcParams['axes.unicode_minus'] = False\n",
    "\n",
    "data = pd.read_csv(\"Airplane_Crashes_and_Fatalities_Since_1908.csv\")\n",
    "print(data.shape)"
   ]
  },
  {
   "cell_type": "markdown",
   "metadata": {},
   "source": [
    "首先导入数据，数据总共5268行13列，接着我们随机查看两行数据。"
   ]
  },
  {
   "cell_type": "code",
   "execution_count": 4,
   "metadata": {},
   "outputs": [
    {
     "data": {
      "text/html": [
       "<div>\n",
       "<style scoped>\n",
       "    .dataframe tbody tr th:only-of-type {\n",
       "        vertical-align: middle;\n",
       "    }\n",
       "\n",
       "    .dataframe tbody tr th {\n",
       "        vertical-align: top;\n",
       "    }\n",
       "\n",
       "    .dataframe thead th {\n",
       "        text-align: right;\n",
       "    }\n",
       "</style>\n",
       "<table border=\"1\" class=\"dataframe\">\n",
       "  <thead>\n",
       "    <tr style=\"text-align: right;\">\n",
       "      <th></th>\n",
       "      <th>Date</th>\n",
       "      <th>Time</th>\n",
       "      <th>Location</th>\n",
       "      <th>Operator</th>\n",
       "      <th>Flight #</th>\n",
       "      <th>Route</th>\n",
       "      <th>Type</th>\n",
       "      <th>Registration</th>\n",
       "      <th>cn/In</th>\n",
       "      <th>Aboard</th>\n",
       "      <th>Fatalities</th>\n",
       "      <th>Ground</th>\n",
       "      <th>Summary</th>\n",
       "    </tr>\n",
       "  </thead>\n",
       "  <tbody>\n",
       "    <tr>\n",
       "      <th>4850</th>\n",
       "      <td>04/01/2002</td>\n",
       "      <td>07:25</td>\n",
       "      <td>Near Cairns, QLD, Australia</td>\n",
       "      <td>Air Taxi</td>\n",
       "      <td>NaN</td>\n",
       "      <td>Cairns - Hicks Island</td>\n",
       "      <td>Shrike Commander 500S</td>\n",
       "      <td>VH-UJB</td>\n",
       "      <td>3152</td>\n",
       "      <td>4.0</td>\n",
       "      <td>4.0</td>\n",
       "      <td>0.0</td>\n",
       "      <td>Crashed into low terrain while en route. Why t...</td>\n",
       "    </tr>\n",
       "    <tr>\n",
       "      <th>2847</th>\n",
       "      <td>10/23/1975</td>\n",
       "      <td>19:28</td>\n",
       "      <td>Cairns Airport, Queensland, Australia</td>\n",
       "      <td>Connair</td>\n",
       "      <td>NaN</td>\n",
       "      <td>Mount Isa - Cairns</td>\n",
       "      <td>de Havilland DH114 Heron 2E</td>\n",
       "      <td>VH-CLS</td>\n",
       "      <td>14067</td>\n",
       "      <td>11.0</td>\n",
       "      <td>11.0</td>\n",
       "      <td>0.0</td>\n",
       "      <td>Improper approach during a storm. Crew error. ...</td>\n",
       "    </tr>\n",
       "  </tbody>\n",
       "</table>\n",
       "</div>"
      ],
      "text/plain": [
       "            Date   Time                               Location  Operator  \\\n",
       "4850  04/01/2002  07:25            Near Cairns, QLD, Australia  Air Taxi   \n",
       "2847  10/23/1975  19:28  Cairns Airport, Queensland, Australia   Connair   \n",
       "\n",
       "     Flight #                  Route                         Type  \\\n",
       "4850      NaN  Cairns - Hicks Island        Shrike Commander 500S   \n",
       "2847      NaN     Mount Isa - Cairns  de Havilland DH114 Heron 2E   \n",
       "\n",
       "     Registration  cn/In  Aboard  Fatalities  Ground  \\\n",
       "4850       VH-UJB   3152     4.0         4.0     0.0   \n",
       "2847       VH-CLS  14067    11.0        11.0     0.0   \n",
       "\n",
       "                                                Summary  \n",
       "4850  Crashed into low terrain while en route. Why t...  \n",
       "2847  Improper approach during a storm. Crew error. ...  "
      ]
     },
     "execution_count": 4,
     "metadata": {},
     "output_type": "execute_result"
    }
   ],
   "source": [
    "data.sample(2)"
   ]
  },
  {
   "cell_type": "markdown",
   "metadata": {},
   "source": [
    "可以看到，每一行数据记录了空难航班的机型、航空公司、航班编号、飞行航线、伤亡人数等重要信息。在导入数据后，我们接下来进行初步的探索。"
   ]
  },
  {
   "cell_type": "markdown",
   "metadata": {},
   "source": [
    "# 2.空难数据的初步探索"
   ]
  },
  {
   "cell_type": "markdown",
   "metadata": {},
   "source": [
    "首先我们查看一下数据中每列的缺失情况。"
   ]
  },
  {
   "cell_type": "code",
   "execution_count": 5,
   "metadata": {
    "scrolled": false
   },
   "outputs": [
    {
     "data": {
      "text/plain": [
       "Date               0\n",
       "Time            2219\n",
       "Location          20\n",
       "Operator          18\n",
       "Flight #        4199\n",
       "Route           1706\n",
       "Type              27\n",
       "Registration     335\n",
       "cn/In           1228\n",
       "Aboard            22\n",
       "Fatalities        12\n",
       "Ground            22\n",
       "Summary          390\n",
       "dtype: int64"
      ]
     },
     "execution_count": 5,
     "metadata": {},
     "output_type": "execute_result"
    }
   ],
   "source": [
    "data.isnull().sum()"
   ]
  },
  {
   "cell_type": "markdown",
   "metadata": {},
   "source": [
    "可以看到，日期、空难发生地点、航空公司、飞机型号、登机人数、乘客遇难人数等重要列缺失较少，我们将空难发生地点、航空公司、飞机型号等列的缺失值填充为`Unknown`(未知)，其余列不影响我们后续的分析，在这里我们先不进行更改。"
   ]
  },
  {
   "cell_type": "code",
   "execution_count": 6,
   "metadata": {},
   "outputs": [],
   "source": [
    "columns = ['Location','Operator','Type']\n",
    "for column in columns:\n",
    "    data[column].fillna('Unknown',inplace = True)"
   ]
  },
  {
   "cell_type": "markdown",
   "metadata": {},
   "source": [
    "接下来使用统计性描述的方法，查看空难数据中的数字型特征(登机人数、乘客遇难人数和地面遇难人数)的各个统计值。"
   ]
  },
  {
   "cell_type": "code",
   "execution_count": 7,
   "metadata": {
    "scrolled": true
   },
   "outputs": [
    {
     "data": {
      "text/html": [
       "<div>\n",
       "<style scoped>\n",
       "    .dataframe tbody tr th:only-of-type {\n",
       "        vertical-align: middle;\n",
       "    }\n",
       "\n",
       "    .dataframe tbody tr th {\n",
       "        vertical-align: top;\n",
       "    }\n",
       "\n",
       "    .dataframe thead th {\n",
       "        text-align: right;\n",
       "    }\n",
       "</style>\n",
       "<table border=\"1\" class=\"dataframe\">\n",
       "  <thead>\n",
       "    <tr style=\"text-align: right;\">\n",
       "      <th></th>\n",
       "      <th>Aboard</th>\n",
       "      <th>Fatalities</th>\n",
       "      <th>Ground</th>\n",
       "    </tr>\n",
       "  </thead>\n",
       "  <tbody>\n",
       "    <tr>\n",
       "      <th>count</th>\n",
       "      <td>5246.000000</td>\n",
       "      <td>5256.000000</td>\n",
       "      <td>5246.000000</td>\n",
       "    </tr>\n",
       "    <tr>\n",
       "      <th>mean</th>\n",
       "      <td>27.554518</td>\n",
       "      <td>20.068303</td>\n",
       "      <td>1.608845</td>\n",
       "    </tr>\n",
       "    <tr>\n",
       "      <th>std</th>\n",
       "      <td>43.076711</td>\n",
       "      <td>33.199952</td>\n",
       "      <td>53.987827</td>\n",
       "    </tr>\n",
       "    <tr>\n",
       "      <th>min</th>\n",
       "      <td>0.000000</td>\n",
       "      <td>0.000000</td>\n",
       "      <td>0.000000</td>\n",
       "    </tr>\n",
       "    <tr>\n",
       "      <th>25%</th>\n",
       "      <td>5.000000</td>\n",
       "      <td>3.000000</td>\n",
       "      <td>0.000000</td>\n",
       "    </tr>\n",
       "    <tr>\n",
       "      <th>50%</th>\n",
       "      <td>13.000000</td>\n",
       "      <td>9.000000</td>\n",
       "      <td>0.000000</td>\n",
       "    </tr>\n",
       "    <tr>\n",
       "      <th>75%</th>\n",
       "      <td>30.000000</td>\n",
       "      <td>23.000000</td>\n",
       "      <td>0.000000</td>\n",
       "    </tr>\n",
       "    <tr>\n",
       "      <th>max</th>\n",
       "      <td>644.000000</td>\n",
       "      <td>583.000000</td>\n",
       "      <td>2750.000000</td>\n",
       "    </tr>\n",
       "  </tbody>\n",
       "</table>\n",
       "</div>"
      ],
      "text/plain": [
       "            Aboard   Fatalities       Ground\n",
       "count  5246.000000  5256.000000  5246.000000\n",
       "mean     27.554518    20.068303     1.608845\n",
       "std      43.076711    33.199952    53.987827\n",
       "min       0.000000     0.000000     0.000000\n",
       "25%       5.000000     3.000000     0.000000\n",
       "50%      13.000000     9.000000     0.000000\n",
       "75%      30.000000    23.000000     0.000000\n",
       "max     644.000000   583.000000  2750.000000"
      ]
     },
     "execution_count": 7,
     "metadata": {},
     "output_type": "execute_result"
    }
   ],
   "source": [
    "data.describe()"
   ]
  },
  {
   "cell_type": "markdown",
   "metadata": {},
   "source": [
    "可以看到单次空难中，乘客遇难人数的最大值达到了583人，地面遇难人数的最大值达到了2750人，接下来我们查看一下这些\"最严重\"的空难。"
   ]
  },
  {
   "cell_type": "markdown",
   "metadata": {},
   "source": [
    "根据乘客遇难人数将数据进行降序排序，我们查看乘客遇难人数最多的5次空难。"
   ]
  },
  {
   "cell_type": "code",
   "execution_count": 8,
   "metadata": {
    "scrolled": false
   },
   "outputs": [
    {
     "data": {
      "text/html": [
       "<div>\n",
       "<style scoped>\n",
       "    .dataframe tbody tr th:only-of-type {\n",
       "        vertical-align: middle;\n",
       "    }\n",
       "\n",
       "    .dataframe tbody tr th {\n",
       "        vertical-align: top;\n",
       "    }\n",
       "\n",
       "    .dataframe thead th {\n",
       "        text-align: right;\n",
       "    }\n",
       "</style>\n",
       "<table border=\"1\" class=\"dataframe\">\n",
       "  <thead>\n",
       "    <tr style=\"text-align: right;\">\n",
       "      <th></th>\n",
       "      <th>Date</th>\n",
       "      <th>Time</th>\n",
       "      <th>Location</th>\n",
       "      <th>Operator</th>\n",
       "      <th>Flight #</th>\n",
       "      <th>Route</th>\n",
       "      <th>Type</th>\n",
       "      <th>Registration</th>\n",
       "      <th>cn/In</th>\n",
       "      <th>Aboard</th>\n",
       "      <th>Fatalities</th>\n",
       "      <th>Ground</th>\n",
       "      <th>Summary</th>\n",
       "    </tr>\n",
       "  </thead>\n",
       "  <tbody>\n",
       "    <tr>\n",
       "      <th>2963</th>\n",
       "      <td>03/27/1977</td>\n",
       "      <td>17:07</td>\n",
       "      <td>Tenerife, Canary Islands</td>\n",
       "      <td>Pan American World Airways / KLM</td>\n",
       "      <td>1736/4805</td>\n",
       "      <td>Tenerife - Las Palmas / Tenerife - Las Palmas</td>\n",
       "      <td>Boeing B-747-121 / Boeing B-747-206B</td>\n",
       "      <td>N736PA/PH-BUF</td>\n",
       "      <td>19643/11 / 20400/157</td>\n",
       "      <td>644.0</td>\n",
       "      <td>583.0</td>\n",
       "      <td>0.0</td>\n",
       "      <td>Both aircraft were diverted to Tenerife becaus...</td>\n",
       "    </tr>\n",
       "    <tr>\n",
       "      <th>3568</th>\n",
       "      <td>08/12/1985</td>\n",
       "      <td>18:56</td>\n",
       "      <td>Mt. Osutaka, near Ueno Village, Japan</td>\n",
       "      <td>Japan Air Lines</td>\n",
       "      <td>123</td>\n",
       "      <td>Tokyo - Osaka</td>\n",
       "      <td>Boeing B-747-SR46</td>\n",
       "      <td>JA8119</td>\n",
       "      <td>20783/230</td>\n",
       "      <td>524.0</td>\n",
       "      <td>520.0</td>\n",
       "      <td>0.0</td>\n",
       "      <td>The aircraft suffered an aft pressure bulkhead...</td>\n",
       "    </tr>\n",
       "    <tr>\n",
       "      <th>4455</th>\n",
       "      <td>11/12/1996</td>\n",
       "      <td>18:40</td>\n",
       "      <td>Near Charkhidadri, India</td>\n",
       "      <td>Saudi Arabian Airlines / Kazastan Airlines</td>\n",
       "      <td>763/1907</td>\n",
       "      <td>New Delhi - Dhahran / Chimkent - New Delhi</td>\n",
       "      <td>Boeing B-747-168B / Ilyushin IL-76TD</td>\n",
       "      <td>HZAIH/UN-76435</td>\n",
       "      <td>22748/555/1023413428</td>\n",
       "      <td>349.0</td>\n",
       "      <td>349.0</td>\n",
       "      <td>0.0</td>\n",
       "      <td>Midair collision 17 km W of New Delhi.  The Sa...</td>\n",
       "    </tr>\n",
       "    <tr>\n",
       "      <th>2726</th>\n",
       "      <td>03/03/1974</td>\n",
       "      <td>11:41</td>\n",
       "      <td>Near Ermenonville, France</td>\n",
       "      <td>Turkish Airlines (THY)</td>\n",
       "      <td>981</td>\n",
       "      <td>Paris - London</td>\n",
       "      <td>McDonnell Douglas DC-10-10</td>\n",
       "      <td>TC-JAV</td>\n",
       "      <td>46704/29</td>\n",
       "      <td>346.0</td>\n",
       "      <td>346.0</td>\n",
       "      <td>0.0</td>\n",
       "      <td>The aircraft crashed shortly after takeoff fro...</td>\n",
       "    </tr>\n",
       "    <tr>\n",
       "      <th>3562</th>\n",
       "      <td>06/23/1985</td>\n",
       "      <td>07:15</td>\n",
       "      <td>AtlantiOcean, 110 miles West of Ireland</td>\n",
       "      <td>Air India</td>\n",
       "      <td>182</td>\n",
       "      <td>Montreal - London</td>\n",
       "      <td>Boeing B-747-237B</td>\n",
       "      <td>VT-EFO</td>\n",
       "      <td>21473/330</td>\n",
       "      <td>329.0</td>\n",
       "      <td>329.0</td>\n",
       "      <td>0.0</td>\n",
       "      <td>The aircraft broke up in flight and crashed in...</td>\n",
       "    </tr>\n",
       "  </tbody>\n",
       "</table>\n",
       "</div>"
      ],
      "text/plain": [
       "            Date   Time                                 Location  \\\n",
       "2963  03/27/1977  17:07                 Tenerife, Canary Islands   \n",
       "3568  08/12/1985  18:56    Mt. Osutaka, near Ueno Village, Japan   \n",
       "4455  11/12/1996  18:40                 Near Charkhidadri, India   \n",
       "2726  03/03/1974  11:41                Near Ermenonville, France   \n",
       "3562  06/23/1985  07:15  AtlantiOcean, 110 miles West of Ireland   \n",
       "\n",
       "                                        Operator   Flight #  \\\n",
       "2963            Pan American World Airways / KLM  1736/4805   \n",
       "3568                             Japan Air Lines        123   \n",
       "4455  Saudi Arabian Airlines / Kazastan Airlines   763/1907   \n",
       "2726                      Turkish Airlines (THY)        981   \n",
       "3562                                   Air India        182   \n",
       "\n",
       "                                              Route  \\\n",
       "2963  Tenerife - Las Palmas / Tenerife - Las Palmas   \n",
       "3568                                  Tokyo - Osaka   \n",
       "4455     New Delhi - Dhahran / Chimkent - New Delhi   \n",
       "2726                                 Paris - London   \n",
       "3562                              Montreal - London   \n",
       "\n",
       "                                      Type    Registration  \\\n",
       "2963  Boeing B-747-121 / Boeing B-747-206B   N736PA/PH-BUF   \n",
       "3568                     Boeing B-747-SR46          JA8119   \n",
       "4455  Boeing B-747-168B / Ilyushin IL-76TD  HZAIH/UN-76435   \n",
       "2726            McDonnell Douglas DC-10-10          TC-JAV   \n",
       "3562                     Boeing B-747-237B          VT-EFO   \n",
       "\n",
       "                     cn/In  Aboard  Fatalities  Ground  \\\n",
       "2963  19643/11 / 20400/157   644.0       583.0     0.0   \n",
       "3568             20783/230   524.0       520.0     0.0   \n",
       "4455  22748/555/1023413428   349.0       349.0     0.0   \n",
       "2726              46704/29   346.0       346.0     0.0   \n",
       "3562             21473/330   329.0       329.0     0.0   \n",
       "\n",
       "                                                Summary  \n",
       "2963  Both aircraft were diverted to Tenerife becaus...  \n",
       "3568  The aircraft suffered an aft pressure bulkhead...  \n",
       "4455  Midair collision 17 km W of New Delhi.  The Sa...  \n",
       "2726  The aircraft crashed shortly after takeoff fro...  \n",
       "3562  The aircraft broke up in flight and crashed in...  "
      ]
     },
     "execution_count": 8,
     "metadata": {},
     "output_type": "execute_result"
    }
   ],
   "source": [
    "data.sort_values(axis = 0, by = 'Fatalities', ascending = False).head()"
   ]
  },
  {
   "cell_type": "markdown",
   "metadata": {},
   "source": [
    "结合数据和历史，乘客遇难人数最多的五次空难分别为：\n",
    "+ 1.特内里费空难，两架波音747客机在洛司罗迪欧机场的跑道上高速相撞爆炸；\n",
    "+ 2.日本航空123号班机空难，波音747SR-146型客机在距离东京约100公里的高天原山山脊坠毁；\n",
    "+ 3.恰尔基达德里撞机事件，沙特阿拉伯航空763号班机与哈萨克斯坦航空1907号班机在新德里附近上空相撞；\n",
    "+ 4.土耳其航空981号班机空难，麦道DC-10客机坠毁于埃尔芒翁维尔一处森林内；\n",
    "+ 5.印度航空182号空难，波音747-237B客机在爱尔兰领空爆炸，坠入该国西南部的大西洋"
   ]
  },
  {
   "cell_type": "markdown",
   "metadata": {},
   "source": [
    "我们发现某一些空难造成的地面人员伤亡非常巨大，最大伤亡达到了2750人，很明显飞机坠入或撞击了城市建筑，我们把地面伤亡人数进行排序分析。"
   ]
  },
  {
   "cell_type": "code",
   "execution_count": 9,
   "metadata": {
    "scrolled": true
   },
   "outputs": [
    {
     "data": {
      "text/html": [
       "<div>\n",
       "<style scoped>\n",
       "    .dataframe tbody tr th:only-of-type {\n",
       "        vertical-align: middle;\n",
       "    }\n",
       "\n",
       "    .dataframe tbody tr th {\n",
       "        vertical-align: top;\n",
       "    }\n",
       "\n",
       "    .dataframe thead th {\n",
       "        text-align: right;\n",
       "    }\n",
       "</style>\n",
       "<table border=\"1\" class=\"dataframe\">\n",
       "  <thead>\n",
       "    <tr style=\"text-align: right;\">\n",
       "      <th></th>\n",
       "      <th>Date</th>\n",
       "      <th>Time</th>\n",
       "      <th>Location</th>\n",
       "      <th>Operator</th>\n",
       "      <th>Flight #</th>\n",
       "      <th>Route</th>\n",
       "      <th>Type</th>\n",
       "      <th>Registration</th>\n",
       "      <th>cn/In</th>\n",
       "      <th>Aboard</th>\n",
       "      <th>Fatalities</th>\n",
       "      <th>Ground</th>\n",
       "      <th>Summary</th>\n",
       "    </tr>\n",
       "  </thead>\n",
       "  <tbody>\n",
       "    <tr>\n",
       "      <th>4803</th>\n",
       "      <td>09/11/2001</td>\n",
       "      <td>08:47</td>\n",
       "      <td>New York City, New York</td>\n",
       "      <td>American Airlines</td>\n",
       "      <td>11</td>\n",
       "      <td>Boston - Los Angeles</td>\n",
       "      <td>Boeing 767-223ER</td>\n",
       "      <td>N334AA</td>\n",
       "      <td>22332/169</td>\n",
       "      <td>92.0</td>\n",
       "      <td>92.0</td>\n",
       "      <td>2750.0</td>\n",
       "      <td>The aircraft was hijacked shortly after it lef...</td>\n",
       "    </tr>\n",
       "    <tr>\n",
       "      <th>4804</th>\n",
       "      <td>09/11/2001</td>\n",
       "      <td>09:03</td>\n",
       "      <td>New York City, New York</td>\n",
       "      <td>United Air Lines</td>\n",
       "      <td>175</td>\n",
       "      <td>Boston - Los Angeles</td>\n",
       "      <td>Boeing B-767-222</td>\n",
       "      <td>N612UA</td>\n",
       "      <td>21873/41</td>\n",
       "      <td>65.0</td>\n",
       "      <td>65.0</td>\n",
       "      <td>2750.0</td>\n",
       "      <td>The aircraft was hijacked shortly after it lef...</td>\n",
       "    </tr>\n",
       "    <tr>\n",
       "      <th>4390</th>\n",
       "      <td>01/08/1996</td>\n",
       "      <td>12:43</td>\n",
       "      <td>Kinshasa, Zaire</td>\n",
       "      <td>African Air</td>\n",
       "      <td>NaN</td>\n",
       "      <td>Kinshasa - Kahemba</td>\n",
       "      <td>Antonov AN-32B</td>\n",
       "      <td>RA-26222</td>\n",
       "      <td>2301</td>\n",
       "      <td>6.0</td>\n",
       "      <td>2.0</td>\n",
       "      <td>225.0</td>\n",
       "      <td>The aircraft failed to gain altitude after tak...</td>\n",
       "    </tr>\n",
       "    <tr>\n",
       "      <th>4802</th>\n",
       "      <td>09/11/2001</td>\n",
       "      <td>09:45</td>\n",
       "      <td>Arlington, Virginia.</td>\n",
       "      <td>American Airlines</td>\n",
       "      <td>77</td>\n",
       "      <td>Washington D.C. - Los Angeles</td>\n",
       "      <td>Boeing B-757-223</td>\n",
       "      <td>N644AA</td>\n",
       "      <td>24602/365</td>\n",
       "      <td>64.0</td>\n",
       "      <td>64.0</td>\n",
       "      <td>125.0</td>\n",
       "      <td>The aircraft was hijacked after taking off fro...</td>\n",
       "    </tr>\n",
       "    <tr>\n",
       "      <th>2933</th>\n",
       "      <td>10/13/1976</td>\n",
       "      <td>NaN</td>\n",
       "      <td>Santa Cruz, Bolivia</td>\n",
       "      <td>Lloyd Aéreo Boliviano</td>\n",
       "      <td>NaN</td>\n",
       "      <td>Santa Cruz - Viru</td>\n",
       "      <td>Boeing B-707-31</td>\n",
       "      <td>N730JP</td>\n",
       "      <td>17671/48</td>\n",
       "      <td>3.0</td>\n",
       "      <td>3.0</td>\n",
       "      <td>113.0</td>\n",
       "      <td>The aircraft failed to climb and crashed into ...</td>\n",
       "    </tr>\n",
       "  </tbody>\n",
       "</table>\n",
       "</div>"
      ],
      "text/plain": [
       "            Date   Time                 Location               Operator  \\\n",
       "4803  09/11/2001  08:47  New York City, New York      American Airlines   \n",
       "4804  09/11/2001  09:03  New York City, New York       United Air Lines   \n",
       "4390  01/08/1996  12:43          Kinshasa, Zaire            African Air   \n",
       "4802  09/11/2001  09:45     Arlington, Virginia.      American Airlines   \n",
       "2933  10/13/1976    NaN      Santa Cruz, Bolivia  Lloyd Aéreo Boliviano   \n",
       "\n",
       "     Flight #                          Route              Type Registration  \\\n",
       "4803       11           Boston - Los Angeles  Boeing 767-223ER       N334AA   \n",
       "4804      175           Boston - Los Angeles  Boeing B-767-222       N612UA   \n",
       "4390      NaN             Kinshasa - Kahemba    Antonov AN-32B     RA-26222   \n",
       "4802       77  Washington D.C. - Los Angeles  Boeing B-757-223       N644AA   \n",
       "2933      NaN              Santa Cruz - Viru   Boeing B-707-31       N730JP   \n",
       "\n",
       "          cn/In  Aboard  Fatalities  Ground  \\\n",
       "4803  22332/169    92.0        92.0  2750.0   \n",
       "4804   21873/41    65.0        65.0  2750.0   \n",
       "4390       2301     6.0         2.0   225.0   \n",
       "4802  24602/365    64.0        64.0   125.0   \n",
       "2933   17671/48     3.0         3.0   113.0   \n",
       "\n",
       "                                                Summary  \n",
       "4803  The aircraft was hijacked shortly after it lef...  \n",
       "4804  The aircraft was hijacked shortly after it lef...  \n",
       "4390  The aircraft failed to gain altitude after tak...  \n",
       "4802  The aircraft was hijacked after taking off fro...  \n",
       "2933  The aircraft failed to climb and crashed into ...  "
      ]
     },
     "execution_count": 9,
     "metadata": {},
     "output_type": "execute_result"
    }
   ],
   "source": [
    "data.sort_values(by = 'Ground',ascending = False).head()"
   ]
  },
  {
   "cell_type": "markdown",
   "metadata": {},
   "source": [
    "我们看到了`911`，地面遇难人数最多！2001年9月11日是很多美国人的噩梦，美国航空11号班机、联合航空175号班机遭到恐怖分子劫持，相隔17分钟分别撞向位于纽约的世界贸易中心双塔，造成飞机上的所有人和在建筑物中许多人遇难，这也印证了我们刚才的推论。"
   ]
  },
  {
   "cell_type": "markdown",
   "metadata": {},
   "source": [
    "接下来我们查看一下生还人数最多的空难，首先我们使用登机人数-乘客遇难人数来计算生还人数。"
   ]
  },
  {
   "cell_type": "code",
   "execution_count": 10,
   "metadata": {},
   "outputs": [],
   "source": [
    "data['Survivor'] = data['Aboard'] - data['Fatalities']"
   ]
  },
  {
   "cell_type": "markdown",
   "metadata": {},
   "source": [
    "对生还人数进行降序排序。"
   ]
  },
  {
   "cell_type": "code",
   "execution_count": 11,
   "metadata": {
    "scrolled": true
   },
   "outputs": [
    {
     "data": {
      "text/html": [
       "<div>\n",
       "<style scoped>\n",
       "    .dataframe tbody tr th:only-of-type {\n",
       "        vertical-align: middle;\n",
       "    }\n",
       "\n",
       "    .dataframe tbody tr th {\n",
       "        vertical-align: top;\n",
       "    }\n",
       "\n",
       "    .dataframe thead th {\n",
       "        text-align: right;\n",
       "    }\n",
       "</style>\n",
       "<table border=\"1\" class=\"dataframe\">\n",
       "  <thead>\n",
       "    <tr style=\"text-align: right;\">\n",
       "      <th></th>\n",
       "      <th>Date</th>\n",
       "      <th>Time</th>\n",
       "      <th>Location</th>\n",
       "      <th>Operator</th>\n",
       "      <th>Flight #</th>\n",
       "      <th>Route</th>\n",
       "      <th>Type</th>\n",
       "      <th>Registration</th>\n",
       "      <th>cn/In</th>\n",
       "      <th>Aboard</th>\n",
       "      <th>Fatalities</th>\n",
       "      <th>Ground</th>\n",
       "      <th>Summary</th>\n",
       "      <th>Survivor</th>\n",
       "    </tr>\n",
       "  </thead>\n",
       "  <tbody>\n",
       "    <tr>\n",
       "      <th>4645</th>\n",
       "      <td>07/23/1999</td>\n",
       "      <td>11:25</td>\n",
       "      <td>Tokyo, Japan</td>\n",
       "      <td>All Nippon Airways</td>\n",
       "      <td>61</td>\n",
       "      <td>Tokyo, Japan - Chitose, Japan</td>\n",
       "      <td>Boeing B-747</td>\n",
       "      <td>NaN</td>\n",
       "      <td>NaN</td>\n",
       "      <td>517.0</td>\n",
       "      <td>1.0</td>\n",
       "      <td>0.0</td>\n",
       "      <td>Two minutes after taking off from Haneda Airpo...</td>\n",
       "      <td>516.0</td>\n",
       "    </tr>\n",
       "    <tr>\n",
       "      <th>4536</th>\n",
       "      <td>12/28/1997</td>\n",
       "      <td>23:10</td>\n",
       "      <td>Over the PacifiOcean</td>\n",
       "      <td>United Air Lines</td>\n",
       "      <td>826</td>\n",
       "      <td>Tokyo - Honolulu</td>\n",
       "      <td>Boeing B-747-122</td>\n",
       "      <td>N4723U</td>\n",
       "      <td>19882/175</td>\n",
       "      <td>393.0</td>\n",
       "      <td>1.0</td>\n",
       "      <td>0.0</td>\n",
       "      <td>Two hours into the flight, at FL 310, the plan...</td>\n",
       "      <td>392.0</td>\n",
       "    </tr>\n",
       "    <tr>\n",
       "      <th>3640</th>\n",
       "      <td>09/05/1986</td>\n",
       "      <td>06:00</td>\n",
       "      <td>Karachi, Pakistan</td>\n",
       "      <td>Pan American World Airways</td>\n",
       "      <td>73</td>\n",
       "      <td>Bombay-Karachi-Frankfurt-New York</td>\n",
       "      <td>Boeing B-747-121</td>\n",
       "      <td>N656PA</td>\n",
       "      <td>20351/127</td>\n",
       "      <td>384.0</td>\n",
       "      <td>16.0</td>\n",
       "      <td>1.0</td>\n",
       "      <td>While on the ground, four hijackers opened fir...</td>\n",
       "      <td>368.0</td>\n",
       "    </tr>\n",
       "    <tr>\n",
       "      <th>3829</th>\n",
       "      <td>02/24/1989</td>\n",
       "      <td>02:09</td>\n",
       "      <td>Honolulu, Hawaii</td>\n",
       "      <td>United Air Lines</td>\n",
       "      <td>811</td>\n",
       "      <td>Los Angeles - Honolulu - Auckland - Sidney</td>\n",
       "      <td>Boeing B-747-122</td>\n",
       "      <td>N4713U</td>\n",
       "      <td>19875/89</td>\n",
       "      <td>356.0</td>\n",
       "      <td>9.0</td>\n",
       "      <td>0.0</td>\n",
       "      <td>After leaving Honolulu, on a flight from Los A...</td>\n",
       "      <td>347.0</td>\n",
       "    </tr>\n",
       "    <tr>\n",
       "      <th>3378</th>\n",
       "      <td>09/13/1982</td>\n",
       "      <td>12:00</td>\n",
       "      <td>Near Malaga, Spain</td>\n",
       "      <td>Spantax</td>\n",
       "      <td>995</td>\n",
       "      <td>Malaga - New York City</td>\n",
       "      <td>McDonnell Douglas DC-10-30CF</td>\n",
       "      <td>EC-DEG</td>\n",
       "      <td>46962/238</td>\n",
       "      <td>394.0</td>\n",
       "      <td>50.0</td>\n",
       "      <td>0.0</td>\n",
       "      <td>The aircraft crashed during takeoff after inte...</td>\n",
       "      <td>344.0</td>\n",
       "    </tr>\n",
       "  </tbody>\n",
       "</table>\n",
       "</div>"
      ],
      "text/plain": [
       "            Date   Time              Location                    Operator  \\\n",
       "4645  07/23/1999  11:25          Tokyo, Japan          All Nippon Airways   \n",
       "4536  12/28/1997  23:10  Over the PacifiOcean            United Air Lines   \n",
       "3640  09/05/1986  06:00     Karachi, Pakistan  Pan American World Airways   \n",
       "3829  02/24/1989  02:09      Honolulu, Hawaii            United Air Lines   \n",
       "3378  09/13/1982  12:00    Near Malaga, Spain                     Spantax   \n",
       "\n",
       "     Flight #                                       Route  \\\n",
       "4645       61               Tokyo, Japan - Chitose, Japan   \n",
       "4536      826                            Tokyo - Honolulu   \n",
       "3640       73           Bombay-Karachi-Frankfurt-New York   \n",
       "3829      811  Los Angeles - Honolulu - Auckland - Sidney   \n",
       "3378      995                      Malaga - New York City   \n",
       "\n",
       "                              Type Registration      cn/In  Aboard  \\\n",
       "4645                  Boeing B-747          NaN        NaN   517.0   \n",
       "4536              Boeing B-747-122       N4723U  19882/175   393.0   \n",
       "3640              Boeing B-747-121       N656PA  20351/127   384.0   \n",
       "3829              Boeing B-747-122       N4713U   19875/89   356.0   \n",
       "3378  McDonnell Douglas DC-10-30CF       EC-DEG  46962/238   394.0   \n",
       "\n",
       "      Fatalities  Ground                                            Summary  \\\n",
       "4645         1.0     0.0  Two minutes after taking off from Haneda Airpo...   \n",
       "4536         1.0     0.0  Two hours into the flight, at FL 310, the plan...   \n",
       "3640        16.0     1.0  While on the ground, four hijackers opened fir...   \n",
       "3829         9.0     0.0  After leaving Honolulu, on a flight from Los A...   \n",
       "3378        50.0     0.0  The aircraft crashed during takeoff after inte...   \n",
       "\n",
       "      Survivor  \n",
       "4645     516.0  \n",
       "4536     392.0  \n",
       "3640     368.0  \n",
       "3829     347.0  \n",
       "3378     344.0  "
      ]
     },
     "execution_count": 11,
     "metadata": {},
     "output_type": "execute_result"
    }
   ],
   "source": [
    "data.sort_values(by = 'Survivor',ascending = False).head()"
   ]
  },
  {
   "cell_type": "markdown",
   "metadata": {},
   "source": [
    "结合数据和历史，生还人数最多的五次空难分别为：\n",
    "+ 1.全日空61号班机劫机事件，1999年7月23日，一架波音747-481D被劫持，机长被劫机者刺杀，但飞机最后最终安全返航羽田机场。\n",
    "+ 2.联合航空826号班机空难，一架波音747-122飞行中遇到晴空湍流，致使103人受伤，一人更因伤势过重不幸身亡。\n",
    "+ 3.泛美航空73号班机劫机事件，1986年9月5日，一架波音747-121被劫持，劫机目的是袭击以色列国防部，飞机上16人被杀害。\n",
    "+ 4.联合航空811号班机空难，1989年2月24日，一架波音747-122型客机攀升至22,000～23,000英尺（6,700～7,000米）上空时突然出现爆炸，造成9人遇难。\n",
    "+ 5.斯班达斯航空995号班机空难，造成50人遇难。"
   ]
  },
  {
   "cell_type": "markdown",
   "metadata": {},
   "source": [
    "# 3.空难发生年份的分析"
   ]
  },
  {
   "cell_type": "markdown",
   "metadata": {},
   "source": [
    "在对空难数据的进行初步探索之后，接下来我们分析一下空难发生的年份。首先我们将发生日期`Date`转换为Pandas中的时间格式。"
   ]
  },
  {
   "cell_type": "code",
   "execution_count": 240,
   "metadata": {},
   "outputs": [],
   "source": [
    "data['Date'] = pd.to_datetime(data['Date'])"
   ]
  },
  {
   "cell_type": "markdown",
   "metadata": {},
   "source": [
    "现在Date已经转成了datetime时间格式，下边我们分析一下每年的空难次数，通过折线图的方法进行展示。"
   ]
  },
  {
   "cell_type": "markdown",
   "metadata": {},
   "source": [
    "## 3.1 每年的空难次数"
   ]
  },
  {
   "cell_type": "code",
   "execution_count": 207,
   "metadata": {},
   "outputs": [
    {
     "data": {
      "application/vnd.plotly.v1+json": {
       "config": {
        "plotlyServerURL": "https://plot.ly"
       },
       "data": [
        {
         "line": {
          "color": "royalblue",
          "width": 4
         },
         "type": "scatter",
         "x": [
          1908,
          1912,
          1913,
          1915,
          1916,
          1917,
          1918,
          1919,
          1920,
          1921,
          1922,
          1923,
          1924,
          1925,
          1926,
          1927,
          1928,
          1929,
          1930,
          1931,
          1932,
          1933,
          1934,
          1935,
          1936,
          1937,
          1938,
          1939,
          1940,
          1941,
          1942,
          1943,
          1944,
          1945,
          1946,
          1947,
          1948,
          1949,
          1950,
          1951,
          1952,
          1953,
          1954,
          1955,
          1956,
          1957,
          1958,
          1959,
          1960,
          1961,
          1962,
          1963,
          1964,
          1965,
          1966,
          1967,
          1968,
          1969,
          1970,
          1971,
          1972,
          1973,
          1974,
          1975,
          1976,
          1977,
          1978,
          1979,
          1980,
          1981,
          1982,
          1983,
          1984,
          1985,
          1986,
          1987,
          1988,
          1989,
          1990,
          1991,
          1992,
          1993,
          1994,
          1995,
          1996,
          1997,
          1998,
          1999,
          2000,
          2001,
          2002,
          2003,
          2004,
          2005,
          2006,
          2007,
          2008,
          2009
         ],
         "y": [
          1,
          1,
          3,
          2,
          5,
          6,
          4,
          6,
          17,
          13,
          11,
          12,
          7,
          11,
          12,
          21,
          37,
          37,
          24,
          32,
          28,
          26,
          30,
          36,
          43,
          27,
          51,
          26,
          18,
          21,
          32,
          39,
          47,
          69,
          80,
          76,
          68,
          60,
          63,
          69,
          61,
          62,
          59,
          52,
          51,
          57,
          62,
          60,
          62,
          52,
          73,
          58,
          69,
          69,
          69,
          91,
          96,
          82,
          87,
          67,
          104,
          89,
          82,
          75,
          86,
          81,
          77,
          89,
          65,
          66,
          70,
          61,
          65,
          74,
          64,
          74,
          83,
          95,
          72,
          88,
          86,
          67,
          87,
          79,
          81,
          68,
          69,
          78,
          76,
          70,
          75,
          61,
          61,
          51,
          49,
          54,
          62,
          24
         ]
        }
       ],
       "layout": {
        "template": {
         "data": {
          "bar": [
           {
            "error_x": {
             "color": "#2a3f5f"
            },
            "error_y": {
             "color": "#2a3f5f"
            },
            "marker": {
             "line": {
              "color": "#E5ECF6",
              "width": 0.5
             }
            },
            "type": "bar"
           }
          ],
          "barpolar": [
           {
            "marker": {
             "line": {
              "color": "#E5ECF6",
              "width": 0.5
             }
            },
            "type": "barpolar"
           }
          ],
          "carpet": [
           {
            "aaxis": {
             "endlinecolor": "#2a3f5f",
             "gridcolor": "white",
             "linecolor": "white",
             "minorgridcolor": "white",
             "startlinecolor": "#2a3f5f"
            },
            "baxis": {
             "endlinecolor": "#2a3f5f",
             "gridcolor": "white",
             "linecolor": "white",
             "minorgridcolor": "white",
             "startlinecolor": "#2a3f5f"
            },
            "type": "carpet"
           }
          ],
          "choropleth": [
           {
            "colorbar": {
             "outlinewidth": 0,
             "ticks": ""
            },
            "type": "choropleth"
           }
          ],
          "contour": [
           {
            "colorbar": {
             "outlinewidth": 0,
             "ticks": ""
            },
            "colorscale": [
             [
              0,
              "#0d0887"
             ],
             [
              0.1111111111111111,
              "#46039f"
             ],
             [
              0.2222222222222222,
              "#7201a8"
             ],
             [
              0.3333333333333333,
              "#9c179e"
             ],
             [
              0.4444444444444444,
              "#bd3786"
             ],
             [
              0.5555555555555556,
              "#d8576b"
             ],
             [
              0.6666666666666666,
              "#ed7953"
             ],
             [
              0.7777777777777778,
              "#fb9f3a"
             ],
             [
              0.8888888888888888,
              "#fdca26"
             ],
             [
              1,
              "#f0f921"
             ]
            ],
            "type": "contour"
           }
          ],
          "contourcarpet": [
           {
            "colorbar": {
             "outlinewidth": 0,
             "ticks": ""
            },
            "type": "contourcarpet"
           }
          ],
          "heatmap": [
           {
            "colorbar": {
             "outlinewidth": 0,
             "ticks": ""
            },
            "colorscale": [
             [
              0,
              "#0d0887"
             ],
             [
              0.1111111111111111,
              "#46039f"
             ],
             [
              0.2222222222222222,
              "#7201a8"
             ],
             [
              0.3333333333333333,
              "#9c179e"
             ],
             [
              0.4444444444444444,
              "#bd3786"
             ],
             [
              0.5555555555555556,
              "#d8576b"
             ],
             [
              0.6666666666666666,
              "#ed7953"
             ],
             [
              0.7777777777777778,
              "#fb9f3a"
             ],
             [
              0.8888888888888888,
              "#fdca26"
             ],
             [
              1,
              "#f0f921"
             ]
            ],
            "type": "heatmap"
           }
          ],
          "heatmapgl": [
           {
            "colorbar": {
             "outlinewidth": 0,
             "ticks": ""
            },
            "colorscale": [
             [
              0,
              "#0d0887"
             ],
             [
              0.1111111111111111,
              "#46039f"
             ],
             [
              0.2222222222222222,
              "#7201a8"
             ],
             [
              0.3333333333333333,
              "#9c179e"
             ],
             [
              0.4444444444444444,
              "#bd3786"
             ],
             [
              0.5555555555555556,
              "#d8576b"
             ],
             [
              0.6666666666666666,
              "#ed7953"
             ],
             [
              0.7777777777777778,
              "#fb9f3a"
             ],
             [
              0.8888888888888888,
              "#fdca26"
             ],
             [
              1,
              "#f0f921"
             ]
            ],
            "type": "heatmapgl"
           }
          ],
          "histogram": [
           {
            "marker": {
             "colorbar": {
              "outlinewidth": 0,
              "ticks": ""
             }
            },
            "type": "histogram"
           }
          ],
          "histogram2d": [
           {
            "colorbar": {
             "outlinewidth": 0,
             "ticks": ""
            },
            "colorscale": [
             [
              0,
              "#0d0887"
             ],
             [
              0.1111111111111111,
              "#46039f"
             ],
             [
              0.2222222222222222,
              "#7201a8"
             ],
             [
              0.3333333333333333,
              "#9c179e"
             ],
             [
              0.4444444444444444,
              "#bd3786"
             ],
             [
              0.5555555555555556,
              "#d8576b"
             ],
             [
              0.6666666666666666,
              "#ed7953"
             ],
             [
              0.7777777777777778,
              "#fb9f3a"
             ],
             [
              0.8888888888888888,
              "#fdca26"
             ],
             [
              1,
              "#f0f921"
             ]
            ],
            "type": "histogram2d"
           }
          ],
          "histogram2dcontour": [
           {
            "colorbar": {
             "outlinewidth": 0,
             "ticks": ""
            },
            "colorscale": [
             [
              0,
              "#0d0887"
             ],
             [
              0.1111111111111111,
              "#46039f"
             ],
             [
              0.2222222222222222,
              "#7201a8"
             ],
             [
              0.3333333333333333,
              "#9c179e"
             ],
             [
              0.4444444444444444,
              "#bd3786"
             ],
             [
              0.5555555555555556,
              "#d8576b"
             ],
             [
              0.6666666666666666,
              "#ed7953"
             ],
             [
              0.7777777777777778,
              "#fb9f3a"
             ],
             [
              0.8888888888888888,
              "#fdca26"
             ],
             [
              1,
              "#f0f921"
             ]
            ],
            "type": "histogram2dcontour"
           }
          ],
          "mesh3d": [
           {
            "colorbar": {
             "outlinewidth": 0,
             "ticks": ""
            },
            "type": "mesh3d"
           }
          ],
          "parcoords": [
           {
            "line": {
             "colorbar": {
              "outlinewidth": 0,
              "ticks": ""
             }
            },
            "type": "parcoords"
           }
          ],
          "scatter": [
           {
            "marker": {
             "colorbar": {
              "outlinewidth": 0,
              "ticks": ""
             }
            },
            "type": "scatter"
           }
          ],
          "scatter3d": [
           {
            "line": {
             "colorbar": {
              "outlinewidth": 0,
              "ticks": ""
             }
            },
            "marker": {
             "colorbar": {
              "outlinewidth": 0,
              "ticks": ""
             }
            },
            "type": "scatter3d"
           }
          ],
          "scattercarpet": [
           {
            "marker": {
             "colorbar": {
              "outlinewidth": 0,
              "ticks": ""
             }
            },
            "type": "scattercarpet"
           }
          ],
          "scattergeo": [
           {
            "marker": {
             "colorbar": {
              "outlinewidth": 0,
              "ticks": ""
             }
            },
            "type": "scattergeo"
           }
          ],
          "scattergl": [
           {
            "marker": {
             "colorbar": {
              "outlinewidth": 0,
              "ticks": ""
             }
            },
            "type": "scattergl"
           }
          ],
          "scattermapbox": [
           {
            "marker": {
             "colorbar": {
              "outlinewidth": 0,
              "ticks": ""
             }
            },
            "type": "scattermapbox"
           }
          ],
          "scatterpolar": [
           {
            "marker": {
             "colorbar": {
              "outlinewidth": 0,
              "ticks": ""
             }
            },
            "type": "scatterpolar"
           }
          ],
          "scatterpolargl": [
           {
            "marker": {
             "colorbar": {
              "outlinewidth": 0,
              "ticks": ""
             }
            },
            "type": "scatterpolargl"
           }
          ],
          "scatterternary": [
           {
            "marker": {
             "colorbar": {
              "outlinewidth": 0,
              "ticks": ""
             }
            },
            "type": "scatterternary"
           }
          ],
          "surface": [
           {
            "colorbar": {
             "outlinewidth": 0,
             "ticks": ""
            },
            "colorscale": [
             [
              0,
              "#0d0887"
             ],
             [
              0.1111111111111111,
              "#46039f"
             ],
             [
              0.2222222222222222,
              "#7201a8"
             ],
             [
              0.3333333333333333,
              "#9c179e"
             ],
             [
              0.4444444444444444,
              "#bd3786"
             ],
             [
              0.5555555555555556,
              "#d8576b"
             ],
             [
              0.6666666666666666,
              "#ed7953"
             ],
             [
              0.7777777777777778,
              "#fb9f3a"
             ],
             [
              0.8888888888888888,
              "#fdca26"
             ],
             [
              1,
              "#f0f921"
             ]
            ],
            "type": "surface"
           }
          ],
          "table": [
           {
            "cells": {
             "fill": {
              "color": "#EBF0F8"
             },
             "line": {
              "color": "white"
             }
            },
            "header": {
             "fill": {
              "color": "#C8D4E3"
             },
             "line": {
              "color": "white"
             }
            },
            "type": "table"
           }
          ]
         },
         "layout": {
          "annotationdefaults": {
           "arrowcolor": "#2a3f5f",
           "arrowhead": 0,
           "arrowwidth": 1
          },
          "colorscale": {
           "diverging": [
            [
             0,
             "#8e0152"
            ],
            [
             0.1,
             "#c51b7d"
            ],
            [
             0.2,
             "#de77ae"
            ],
            [
             0.3,
             "#f1b6da"
            ],
            [
             0.4,
             "#fde0ef"
            ],
            [
             0.5,
             "#f7f7f7"
            ],
            [
             0.6,
             "#e6f5d0"
            ],
            [
             0.7,
             "#b8e186"
            ],
            [
             0.8,
             "#7fbc41"
            ],
            [
             0.9,
             "#4d9221"
            ],
            [
             1,
             "#276419"
            ]
           ],
           "sequential": [
            [
             0,
             "#0d0887"
            ],
            [
             0.1111111111111111,
             "#46039f"
            ],
            [
             0.2222222222222222,
             "#7201a8"
            ],
            [
             0.3333333333333333,
             "#9c179e"
            ],
            [
             0.4444444444444444,
             "#bd3786"
            ],
            [
             0.5555555555555556,
             "#d8576b"
            ],
            [
             0.6666666666666666,
             "#ed7953"
            ],
            [
             0.7777777777777778,
             "#fb9f3a"
            ],
            [
             0.8888888888888888,
             "#fdca26"
            ],
            [
             1,
             "#f0f921"
            ]
           ],
           "sequentialminus": [
            [
             0,
             "#0d0887"
            ],
            [
             0.1111111111111111,
             "#46039f"
            ],
            [
             0.2222222222222222,
             "#7201a8"
            ],
            [
             0.3333333333333333,
             "#9c179e"
            ],
            [
             0.4444444444444444,
             "#bd3786"
            ],
            [
             0.5555555555555556,
             "#d8576b"
            ],
            [
             0.6666666666666666,
             "#ed7953"
            ],
            [
             0.7777777777777778,
             "#fb9f3a"
            ],
            [
             0.8888888888888888,
             "#fdca26"
            ],
            [
             1,
             "#f0f921"
            ]
           ]
          },
          "colorway": [
           "#636efa",
           "#EF553B",
           "#00cc96",
           "#ab63fa",
           "#FFA15A",
           "#19d3f3",
           "#FF6692",
           "#B6E880",
           "#FF97FF",
           "#FECB52"
          ],
          "font": {
           "color": "#2a3f5f"
          },
          "geo": {
           "bgcolor": "white",
           "lakecolor": "white",
           "landcolor": "#E5ECF6",
           "showlakes": true,
           "showland": true,
           "subunitcolor": "white"
          },
          "hoverlabel": {
           "align": "left"
          },
          "hovermode": "closest",
          "mapbox": {
           "style": "light"
          },
          "paper_bgcolor": "white",
          "plot_bgcolor": "#E5ECF6",
          "polar": {
           "angularaxis": {
            "gridcolor": "white",
            "linecolor": "white",
            "ticks": ""
           },
           "bgcolor": "#E5ECF6",
           "radialaxis": {
            "gridcolor": "white",
            "linecolor": "white",
            "ticks": ""
           }
          },
          "scene": {
           "xaxis": {
            "backgroundcolor": "#E5ECF6",
            "gridcolor": "white",
            "gridwidth": 2,
            "linecolor": "white",
            "showbackground": true,
            "ticks": "",
            "zerolinecolor": "white"
           },
           "yaxis": {
            "backgroundcolor": "#E5ECF6",
            "gridcolor": "white",
            "gridwidth": 2,
            "linecolor": "white",
            "showbackground": true,
            "ticks": "",
            "zerolinecolor": "white"
           },
           "zaxis": {
            "backgroundcolor": "#E5ECF6",
            "gridcolor": "white",
            "gridwidth": 2,
            "linecolor": "white",
            "showbackground": true,
            "ticks": "",
            "zerolinecolor": "white"
           }
          },
          "shapedefaults": {
           "line": {
            "color": "#2a3f5f"
           }
          },
          "ternary": {
           "aaxis": {
            "gridcolor": "white",
            "linecolor": "white",
            "ticks": ""
           },
           "baxis": {
            "gridcolor": "white",
            "linecolor": "white",
            "ticks": ""
           },
           "bgcolor": "#E5ECF6",
           "caxis": {
            "gridcolor": "white",
            "linecolor": "white",
            "ticks": ""
           }
          },
          "title": {
           "x": 0.05
          },
          "xaxis": {
           "automargin": true,
           "gridcolor": "white",
           "linecolor": "white",
           "ticks": "",
           "zerolinecolor": "white",
           "zerolinewidth": 2
          },
          "yaxis": {
           "automargin": true,
           "gridcolor": "white",
           "linecolor": "white",
           "ticks": "",
           "zerolinecolor": "white",
           "zerolinewidth": 2
          }
         }
        },
        "title": {
         "text": "每年的空难次数"
        },
        "xaxis": {
         "title": {
          "text": "年份"
         }
        },
        "yaxis": {
         "title": {
          "text": "次数"
         }
        }
       }
      },
      "text/html": [
       "<div>\n",
       "        \n",
       "        \n",
       "            <div id=\"ce2c50a6-a287-4fd0-b38f-a1c5713e0142\" class=\"plotly-graph-div\" style=\"height:525px; width:100%;\"></div>\n",
       "            <script type=\"text/javascript\">\n",
       "                require([\"plotly\"], function(Plotly) {\n",
       "                    window.PLOTLYENV=window.PLOTLYENV || {};\n",
       "                    \n",
       "                if (document.getElementById(\"ce2c50a6-a287-4fd0-b38f-a1c5713e0142\")) {\n",
       "                    Plotly.newPlot(\n",
       "                        'ce2c50a6-a287-4fd0-b38f-a1c5713e0142',\n",
       "                        [{\"line\": {\"color\": \"royalblue\", \"width\": 4}, \"type\": \"scatter\", \"x\": [1908, 1912, 1913, 1915, 1916, 1917, 1918, 1919, 1920, 1921, 1922, 1923, 1924, 1925, 1926, 1927, 1928, 1929, 1930, 1931, 1932, 1933, 1934, 1935, 1936, 1937, 1938, 1939, 1940, 1941, 1942, 1943, 1944, 1945, 1946, 1947, 1948, 1949, 1950, 1951, 1952, 1953, 1954, 1955, 1956, 1957, 1958, 1959, 1960, 1961, 1962, 1963, 1964, 1965, 1966, 1967, 1968, 1969, 1970, 1971, 1972, 1973, 1974, 1975, 1976, 1977, 1978, 1979, 1980, 1981, 1982, 1983, 1984, 1985, 1986, 1987, 1988, 1989, 1990, 1991, 1992, 1993, 1994, 1995, 1996, 1997, 1998, 1999, 2000, 2001, 2002, 2003, 2004, 2005, 2006, 2007, 2008, 2009], \"y\": [1, 1, 3, 2, 5, 6, 4, 6, 17, 13, 11, 12, 7, 11, 12, 21, 37, 37, 24, 32, 28, 26, 30, 36, 43, 27, 51, 26, 18, 21, 32, 39, 47, 69, 80, 76, 68, 60, 63, 69, 61, 62, 59, 52, 51, 57, 62, 60, 62, 52, 73, 58, 69, 69, 69, 91, 96, 82, 87, 67, 104, 89, 82, 75, 86, 81, 77, 89, 65, 66, 70, 61, 65, 74, 64, 74, 83, 95, 72, 88, 86, 67, 87, 79, 81, 68, 69, 78, 76, 70, 75, 61, 61, 51, 49, 54, 62, 24]}],\n",
       "                        {\"template\": {\"data\": {\"bar\": [{\"error_x\": {\"color\": \"#2a3f5f\"}, \"error_y\": {\"color\": \"#2a3f5f\"}, \"marker\": {\"line\": {\"color\": \"#E5ECF6\", \"width\": 0.5}}, \"type\": \"bar\"}], \"barpolar\": [{\"marker\": {\"line\": {\"color\": \"#E5ECF6\", \"width\": 0.5}}, \"type\": \"barpolar\"}], \"carpet\": [{\"aaxis\": {\"endlinecolor\": \"#2a3f5f\", \"gridcolor\": \"white\", \"linecolor\": \"white\", \"minorgridcolor\": \"white\", \"startlinecolor\": \"#2a3f5f\"}, \"baxis\": {\"endlinecolor\": \"#2a3f5f\", \"gridcolor\": \"white\", \"linecolor\": \"white\", \"minorgridcolor\": \"white\", \"startlinecolor\": \"#2a3f5f\"}, \"type\": \"carpet\"}], \"choropleth\": [{\"colorbar\": {\"outlinewidth\": 0, \"ticks\": \"\"}, \"type\": \"choropleth\"}], \"contour\": [{\"colorbar\": {\"outlinewidth\": 0, \"ticks\": \"\"}, \"colorscale\": [[0.0, \"#0d0887\"], [0.1111111111111111, \"#46039f\"], [0.2222222222222222, \"#7201a8\"], [0.3333333333333333, \"#9c179e\"], [0.4444444444444444, \"#bd3786\"], [0.5555555555555556, \"#d8576b\"], [0.6666666666666666, \"#ed7953\"], [0.7777777777777778, \"#fb9f3a\"], [0.8888888888888888, \"#fdca26\"], [1.0, \"#f0f921\"]], \"type\": \"contour\"}], \"contourcarpet\": [{\"colorbar\": {\"outlinewidth\": 0, \"ticks\": \"\"}, \"type\": \"contourcarpet\"}], \"heatmap\": [{\"colorbar\": {\"outlinewidth\": 0, \"ticks\": \"\"}, \"colorscale\": [[0.0, \"#0d0887\"], [0.1111111111111111, \"#46039f\"], [0.2222222222222222, \"#7201a8\"], [0.3333333333333333, \"#9c179e\"], [0.4444444444444444, \"#bd3786\"], [0.5555555555555556, \"#d8576b\"], [0.6666666666666666, \"#ed7953\"], [0.7777777777777778, \"#fb9f3a\"], [0.8888888888888888, \"#fdca26\"], [1.0, \"#f0f921\"]], \"type\": \"heatmap\"}], \"heatmapgl\": [{\"colorbar\": {\"outlinewidth\": 0, \"ticks\": \"\"}, \"colorscale\": [[0.0, \"#0d0887\"], [0.1111111111111111, \"#46039f\"], [0.2222222222222222, \"#7201a8\"], [0.3333333333333333, \"#9c179e\"], [0.4444444444444444, \"#bd3786\"], [0.5555555555555556, \"#d8576b\"], [0.6666666666666666, \"#ed7953\"], [0.7777777777777778, \"#fb9f3a\"], [0.8888888888888888, \"#fdca26\"], [1.0, \"#f0f921\"]], \"type\": \"heatmapgl\"}], \"histogram\": [{\"marker\": {\"colorbar\": {\"outlinewidth\": 0, \"ticks\": \"\"}}, \"type\": \"histogram\"}], \"histogram2d\": [{\"colorbar\": {\"outlinewidth\": 0, \"ticks\": \"\"}, \"colorscale\": [[0.0, \"#0d0887\"], [0.1111111111111111, \"#46039f\"], [0.2222222222222222, \"#7201a8\"], [0.3333333333333333, \"#9c179e\"], [0.4444444444444444, \"#bd3786\"], [0.5555555555555556, \"#d8576b\"], [0.6666666666666666, \"#ed7953\"], [0.7777777777777778, \"#fb9f3a\"], [0.8888888888888888, \"#fdca26\"], [1.0, \"#f0f921\"]], \"type\": \"histogram2d\"}], \"histogram2dcontour\": [{\"colorbar\": {\"outlinewidth\": 0, \"ticks\": \"\"}, \"colorscale\": [[0.0, \"#0d0887\"], [0.1111111111111111, \"#46039f\"], [0.2222222222222222, \"#7201a8\"], [0.3333333333333333, \"#9c179e\"], [0.4444444444444444, \"#bd3786\"], [0.5555555555555556, \"#d8576b\"], [0.6666666666666666, \"#ed7953\"], [0.7777777777777778, \"#fb9f3a\"], [0.8888888888888888, \"#fdca26\"], [1.0, \"#f0f921\"]], \"type\": \"histogram2dcontour\"}], \"mesh3d\": [{\"colorbar\": {\"outlinewidth\": 0, \"ticks\": \"\"}, \"type\": \"mesh3d\"}], \"parcoords\": [{\"line\": {\"colorbar\": {\"outlinewidth\": 0, \"ticks\": \"\"}}, \"type\": \"parcoords\"}], \"scatter\": [{\"marker\": {\"colorbar\": {\"outlinewidth\": 0, \"ticks\": \"\"}}, \"type\": \"scatter\"}], \"scatter3d\": [{\"line\": {\"colorbar\": {\"outlinewidth\": 0, \"ticks\": \"\"}}, \"marker\": {\"colorbar\": {\"outlinewidth\": 0, \"ticks\": \"\"}}, \"type\": \"scatter3d\"}], \"scattercarpet\": [{\"marker\": {\"colorbar\": {\"outlinewidth\": 0, \"ticks\": \"\"}}, \"type\": \"scattercarpet\"}], \"scattergeo\": [{\"marker\": {\"colorbar\": {\"outlinewidth\": 0, \"ticks\": \"\"}}, \"type\": \"scattergeo\"}], \"scattergl\": [{\"marker\": {\"colorbar\": {\"outlinewidth\": 0, \"ticks\": \"\"}}, \"type\": \"scattergl\"}], \"scattermapbox\": [{\"marker\": {\"colorbar\": {\"outlinewidth\": 0, \"ticks\": \"\"}}, \"type\": \"scattermapbox\"}], \"scatterpolar\": [{\"marker\": {\"colorbar\": {\"outlinewidth\": 0, \"ticks\": \"\"}}, \"type\": \"scatterpolar\"}], \"scatterpolargl\": [{\"marker\": {\"colorbar\": {\"outlinewidth\": 0, \"ticks\": \"\"}}, \"type\": \"scatterpolargl\"}], \"scatterternary\": [{\"marker\": {\"colorbar\": {\"outlinewidth\": 0, \"ticks\": \"\"}}, \"type\": \"scatterternary\"}], \"surface\": [{\"colorbar\": {\"outlinewidth\": 0, \"ticks\": \"\"}, \"colorscale\": [[0.0, \"#0d0887\"], [0.1111111111111111, \"#46039f\"], [0.2222222222222222, \"#7201a8\"], [0.3333333333333333, \"#9c179e\"], [0.4444444444444444, \"#bd3786\"], [0.5555555555555556, \"#d8576b\"], [0.6666666666666666, \"#ed7953\"], [0.7777777777777778, \"#fb9f3a\"], [0.8888888888888888, \"#fdca26\"], [1.0, \"#f0f921\"]], \"type\": \"surface\"}], \"table\": [{\"cells\": {\"fill\": {\"color\": \"#EBF0F8\"}, \"line\": {\"color\": \"white\"}}, \"header\": {\"fill\": {\"color\": \"#C8D4E3\"}, \"line\": {\"color\": \"white\"}}, \"type\": \"table\"}]}, \"layout\": {\"annotationdefaults\": {\"arrowcolor\": \"#2a3f5f\", \"arrowhead\": 0, \"arrowwidth\": 1}, \"colorscale\": {\"diverging\": [[0, \"#8e0152\"], [0.1, \"#c51b7d\"], [0.2, \"#de77ae\"], [0.3, \"#f1b6da\"], [0.4, \"#fde0ef\"], [0.5, \"#f7f7f7\"], [0.6, \"#e6f5d0\"], [0.7, \"#b8e186\"], [0.8, \"#7fbc41\"], [0.9, \"#4d9221\"], [1, \"#276419\"]], \"sequential\": [[0.0, \"#0d0887\"], [0.1111111111111111, \"#46039f\"], [0.2222222222222222, \"#7201a8\"], [0.3333333333333333, \"#9c179e\"], [0.4444444444444444, \"#bd3786\"], [0.5555555555555556, \"#d8576b\"], [0.6666666666666666, \"#ed7953\"], [0.7777777777777778, \"#fb9f3a\"], [0.8888888888888888, \"#fdca26\"], [1.0, \"#f0f921\"]], \"sequentialminus\": [[0.0, \"#0d0887\"], [0.1111111111111111, \"#46039f\"], [0.2222222222222222, \"#7201a8\"], [0.3333333333333333, \"#9c179e\"], [0.4444444444444444, \"#bd3786\"], [0.5555555555555556, \"#d8576b\"], [0.6666666666666666, \"#ed7953\"], [0.7777777777777778, \"#fb9f3a\"], [0.8888888888888888, \"#fdca26\"], [1.0, \"#f0f921\"]]}, \"colorway\": [\"#636efa\", \"#EF553B\", \"#00cc96\", \"#ab63fa\", \"#FFA15A\", \"#19d3f3\", \"#FF6692\", \"#B6E880\", \"#FF97FF\", \"#FECB52\"], \"font\": {\"color\": \"#2a3f5f\"}, \"geo\": {\"bgcolor\": \"white\", \"lakecolor\": \"white\", \"landcolor\": \"#E5ECF6\", \"showlakes\": true, \"showland\": true, \"subunitcolor\": \"white\"}, \"hoverlabel\": {\"align\": \"left\"}, \"hovermode\": \"closest\", \"mapbox\": {\"style\": \"light\"}, \"paper_bgcolor\": \"white\", \"plot_bgcolor\": \"#E5ECF6\", \"polar\": {\"angularaxis\": {\"gridcolor\": \"white\", \"linecolor\": \"white\", \"ticks\": \"\"}, \"bgcolor\": \"#E5ECF6\", \"radialaxis\": {\"gridcolor\": \"white\", \"linecolor\": \"white\", \"ticks\": \"\"}}, \"scene\": {\"xaxis\": {\"backgroundcolor\": \"#E5ECF6\", \"gridcolor\": \"white\", \"gridwidth\": 2, \"linecolor\": \"white\", \"showbackground\": true, \"ticks\": \"\", \"zerolinecolor\": \"white\"}, \"yaxis\": {\"backgroundcolor\": \"#E5ECF6\", \"gridcolor\": \"white\", \"gridwidth\": 2, \"linecolor\": \"white\", \"showbackground\": true, \"ticks\": \"\", \"zerolinecolor\": \"white\"}, \"zaxis\": {\"backgroundcolor\": \"#E5ECF6\", \"gridcolor\": \"white\", \"gridwidth\": 2, \"linecolor\": \"white\", \"showbackground\": true, \"ticks\": \"\", \"zerolinecolor\": \"white\"}}, \"shapedefaults\": {\"line\": {\"color\": \"#2a3f5f\"}}, \"ternary\": {\"aaxis\": {\"gridcolor\": \"white\", \"linecolor\": \"white\", \"ticks\": \"\"}, \"baxis\": {\"gridcolor\": \"white\", \"linecolor\": \"white\", \"ticks\": \"\"}, \"bgcolor\": \"#E5ECF6\", \"caxis\": {\"gridcolor\": \"white\", \"linecolor\": \"white\", \"ticks\": \"\"}}, \"title\": {\"x\": 0.05}, \"xaxis\": {\"automargin\": true, \"gridcolor\": \"white\", \"linecolor\": \"white\", \"ticks\": \"\", \"zerolinecolor\": \"white\", \"zerolinewidth\": 2}, \"yaxis\": {\"automargin\": true, \"gridcolor\": \"white\", \"linecolor\": \"white\", \"ticks\": \"\", \"zerolinecolor\": \"white\", \"zerolinewidth\": 2}}}, \"title\": {\"text\": \"\\u6bcf\\u5e74\\u7684\\u7a7a\\u96be\\u6b21\\u6570\"}, \"xaxis\": {\"title\": {\"text\": \"\\u5e74\\u4efd\"}}, \"yaxis\": {\"title\": {\"text\": \"\\u6b21\\u6570\"}}},\n",
       "                        {\"responsive\": true}\n",
       "                    ).then(function(){\n",
       "                            \n",
       "var gd = document.getElementById('ce2c50a6-a287-4fd0-b38f-a1c5713e0142');\n",
       "var x = new MutationObserver(function (mutations, observer) {{\n",
       "        var display = window.getComputedStyle(gd).display;\n",
       "        if (!display || display === 'none') {{\n",
       "            console.log([gd, 'removed!']);\n",
       "            Plotly.purge(gd);\n",
       "            observer.disconnect();\n",
       "        }}\n",
       "}});\n",
       "\n",
       "// Listen for the removal of the full notebook cells\n",
       "var notebookContainer = gd.closest('#notebook-container');\n",
       "if (notebookContainer) {{\n",
       "    x.observe(notebookContainer, {childList: true});\n",
       "}}\n",
       "\n",
       "// Listen for the clearing of the current output cell\n",
       "var outputEl = gd.closest('.output');\n",
       "if (outputEl) {{\n",
       "    x.observe(outputEl, {childList: true});\n",
       "}}\n",
       "\n",
       "                        })\n",
       "                };\n",
       "                });\n",
       "            </script>\n",
       "        </div>"
      ]
     },
     "metadata": {},
     "output_type": "display_data"
    }
   ],
   "source": [
    "import plotly.graph_objects as go\n",
    "\n",
    "year = data.groupby(data.Date.dt.year).size().index\n",
    "times = data.groupby(data.Date.dt.year).size().values\n",
    "\n",
    "fig = go.Figure()\n",
    "\n",
    "fig.add_trace(go.Scatter(x=year, y=times,line=dict(color='royalblue', width=4)))\n",
    "\n",
    "fig.update_layout(title='每年的空难次数',\n",
    "                   xaxis_title='年份',\n",
    "                   yaxis_title='次数')\n",
    "fig.show()"
   ]
  },
  {
   "cell_type": "markdown",
   "metadata": {},
   "source": [
    "可以看到：\n",
    "+ 从全球范围来看，空难数量是一直呈增加趋势的，在70年代达到顶点，之后总体呈下降趋势。\n",
    "+ 在40年代中期，60年代末和80年代末都出现了空难的高峰。\n"
   ]
  },
  {
   "cell_type": "markdown",
   "metadata": {},
   "source": [
    "## 3.2 每年的空难乘客遇难人数和遇难率"
   ]
  },
  {
   "cell_type": "markdown",
   "metadata": {},
   "source": [
    "+ 将数据按照`年`进行分组后，对每组中乘客遇难人数进行求和，计算每年的乘客遇难人数。\n",
    "+ 随着飞机性能的提升和更先进的应急措施，飞机的安全系数逐渐变高，即使遇到空难也能更好的减少人员伤亡。我们通过计算乘客遇难人数与登机人数的比值，分析一下每年空难的死亡率。"
   ]
  },
  {
   "cell_type": "code",
   "execution_count": 252,
   "metadata": {},
   "outputs": [
    {
     "data": {
      "application/vnd.plotly.v1+json": {
       "config": {
        "linkText": "Export to plot.ly",
        "plotlyServerURL": "https://plot.ly",
        "showLink": false
       },
       "data": [
        {
         "line": {
          "color": "firebrick",
          "width": 4
         },
         "name": "遇难人数",
         "type": "scatter",
         "x": [
          1908,
          1912,
          1913,
          1915,
          1916,
          1917,
          1918,
          1919,
          1920,
          1921,
          1922,
          1923,
          1924,
          1925,
          1926,
          1927,
          1928,
          1929,
          1930,
          1931,
          1932,
          1933,
          1934,
          1935,
          1936,
          1937,
          1938,
          1939,
          1940,
          1941,
          1942,
          1943,
          1944,
          1945,
          1946,
          1947,
          1948,
          1949,
          1950,
          1951,
          1952,
          1953,
          1954,
          1955,
          1956,
          1957,
          1958,
          1959,
          1960,
          1961,
          1962,
          1963,
          1964,
          1965,
          1966,
          1967,
          1968,
          1969,
          1970,
          1971,
          1972,
          1973,
          1974,
          1975,
          1976,
          1977,
          1978,
          1979,
          1980,
          1981,
          1982,
          1983,
          1984,
          1985,
          1986,
          1987,
          1988,
          1989,
          1990,
          1991,
          1992,
          1993,
          1994,
          1995,
          1996,
          1997,
          1998,
          1999,
          2000,
          2001,
          2002,
          2003,
          2004,
          2005,
          2006,
          2007,
          2008,
          2009
         ],
         "y": [
          1,
          5,
          45,
          40,
          108,
          124,
          65,
          5,
          24,
          68,
          80,
          77,
          18,
          39,
          30,
          54,
          124,
          119,
          138,
          94,
          75,
          192,
          126,
          226,
          227,
          203,
          414,
          154,
          169,
          229,
          363,
          642,
          601,
          1314,
          1306,
          1233,
          1069,
          1085,
          1382,
          1166,
          1200,
          1188,
          973,
          864,
          989,
          1004,
          1266,
          1027,
          1565,
          1411,
          2047,
          1303,
          1354,
          1636,
          1559,
          1789,
          2156,
          1799,
          2049,
          1932,
          2937,
          2485,
          2318,
          1639,
          2059,
          2138,
          1558,
          2011,
          1827,
          1230,
          1787,
          1611,
          1228,
          2670,
          1471,
          1713,
          2034,
          2293,
          1312,
          1839,
          2122,
          1568,
          1876,
          1593,
          2386,
          1673,
          1544,
          970,
          1429,
          1398,
          1437,
          1276,
          728,
          1306,
          1136,
          931,
          820,
          581
         ],
         "yaxis": "y"
        },
        {
         "line": {
          "color": "olive",
          "dash": "dot",
          "width": 4
         },
         "name": "遇难率",
         "type": "scatter",
         "x": [
          1908,
          1912,
          1913,
          1915,
          1916,
          1917,
          1918,
          1919,
          1920,
          1921,
          1922,
          1923,
          1924,
          1925,
          1926,
          1927,
          1928,
          1929,
          1930,
          1931,
          1932,
          1933,
          1934,
          1935,
          1936,
          1937,
          1938,
          1939,
          1940,
          1941,
          1942,
          1943,
          1944,
          1945,
          1946,
          1947,
          1948,
          1949,
          1950,
          1951,
          1952,
          1953,
          1954,
          1955,
          1956,
          1957,
          1958,
          1959,
          1960,
          1961,
          1962,
          1963,
          1964,
          1965,
          1966,
          1967,
          1968,
          1969,
          1970,
          1971,
          1972,
          1973,
          1974,
          1975,
          1976,
          1977,
          1978,
          1979,
          1980,
          1981,
          1982,
          1983,
          1984,
          1985,
          1986,
          1987,
          1988,
          1989,
          1990,
          1991,
          1992,
          1993,
          1994,
          1995,
          1996,
          1997,
          1998,
          1999,
          2000,
          2001,
          2002,
          2003,
          2004,
          2005,
          2006,
          2007,
          2008,
          2009
         ],
         "y": [
          0.5,
          1,
          0.8823529411764706,
          0.6666666666666666,
          0.9908256880733946,
          1,
          1,
          1,
          0.7741935483870968,
          0.9855072463768116,
          0.8791208791208791,
          0.9625,
          1,
          0.5735294117647058,
          0.6666666666666666,
          0.7397260273972602,
          0.9253731343283582,
          0.7828947368421053,
          0.7840909090909091,
          0.831858407079646,
          0.8620689655172413,
          0.9056603773584906,
          0.7777777777777778,
          0.8278388278388278,
          0.7275641025641025,
          0.6132930513595166,
          0.8697478991596639,
          0.8369565217391305,
          0.8086124401913876,
          0.8207885304659498,
          0.8212669683257918,
          0.9413489736070382,
          0.8812316715542522,
          0.9195241427571729,
          0.8718291054739653,
          0.7858508604206501,
          0.8098484848484848,
          0.7119422572178478,
          0.8898905344494527,
          0.8780120481927711,
          0.7994670219853431,
          0.7962466487935657,
          0.8395168248490078,
          0.7322033898305085,
          0.6602136181575434,
          0.6797562626946513,
          0.775260257195346,
          0.822257806244996,
          0.8176593521421107,
          0.770617149098853,
          0.8372188139059304,
          0.8428201811125485,
          0.7885847408270239,
          0.7680751173708921,
          0.8603752759381899,
          0.764856776400171,
          0.7363387978142076,
          0.7549307595467898,
          0.7642670645281612,
          0.7526295286326451,
          0.8079779917469051,
          0.7238566851150597,
          0.7565274151436031,
          0.7101386481802426,
          0.7831875237732978,
          0.8031555221637866,
          0.5723732549595886,
          0.8184778184778185,
          0.6764161421695668,
          0.7935483870967742,
          0.5649699652228897,
          0.6849489795918368,
          0.7455980570734669,
          0.7672413793103449,
          0.5728193146417445,
          0.7716216216216216,
          0.6697398748765229,
          0.6294262970079605,
          0.5475792988313857,
          0.7478649857665718,
          0.7156829679595278,
          0.6482017362546507,
          0.6039922730199614,
          0.7542613636363636,
          0.7802485284499673,
          0.6732394366197183,
          0.7677772252610642,
          0.35170413343002177,
          0.6062791684344506,
          0.6622453813358598,
          0.7992213570634038,
          0.8461538461538461,
          0.7769477054429029,
          0.6035120147874307,
          0.8039631988676574,
          0.6825513196480938,
          0.5604921394395078,
          0.6520763187429854
         ],
         "yaxis": "y2"
        }
       ],
       "layout": {
        "template": {
         "data": {
          "bar": [
           {
            "error_x": {
             "color": "#2a3f5f"
            },
            "error_y": {
             "color": "#2a3f5f"
            },
            "marker": {
             "line": {
              "color": "#E5ECF6",
              "width": 0.5
             }
            },
            "type": "bar"
           }
          ],
          "barpolar": [
           {
            "marker": {
             "line": {
              "color": "#E5ECF6",
              "width": 0.5
             }
            },
            "type": "barpolar"
           }
          ],
          "carpet": [
           {
            "aaxis": {
             "endlinecolor": "#2a3f5f",
             "gridcolor": "white",
             "linecolor": "white",
             "minorgridcolor": "white",
             "startlinecolor": "#2a3f5f"
            },
            "baxis": {
             "endlinecolor": "#2a3f5f",
             "gridcolor": "white",
             "linecolor": "white",
             "minorgridcolor": "white",
             "startlinecolor": "#2a3f5f"
            },
            "type": "carpet"
           }
          ],
          "choropleth": [
           {
            "colorbar": {
             "outlinewidth": 0,
             "ticks": ""
            },
            "type": "choropleth"
           }
          ],
          "contour": [
           {
            "colorbar": {
             "outlinewidth": 0,
             "ticks": ""
            },
            "colorscale": [
             [
              0,
              "#0d0887"
             ],
             [
              0.1111111111111111,
              "#46039f"
             ],
             [
              0.2222222222222222,
              "#7201a8"
             ],
             [
              0.3333333333333333,
              "#9c179e"
             ],
             [
              0.4444444444444444,
              "#bd3786"
             ],
             [
              0.5555555555555556,
              "#d8576b"
             ],
             [
              0.6666666666666666,
              "#ed7953"
             ],
             [
              0.7777777777777778,
              "#fb9f3a"
             ],
             [
              0.8888888888888888,
              "#fdca26"
             ],
             [
              1,
              "#f0f921"
             ]
            ],
            "type": "contour"
           }
          ],
          "contourcarpet": [
           {
            "colorbar": {
             "outlinewidth": 0,
             "ticks": ""
            },
            "type": "contourcarpet"
           }
          ],
          "heatmap": [
           {
            "colorbar": {
             "outlinewidth": 0,
             "ticks": ""
            },
            "colorscale": [
             [
              0,
              "#0d0887"
             ],
             [
              0.1111111111111111,
              "#46039f"
             ],
             [
              0.2222222222222222,
              "#7201a8"
             ],
             [
              0.3333333333333333,
              "#9c179e"
             ],
             [
              0.4444444444444444,
              "#bd3786"
             ],
             [
              0.5555555555555556,
              "#d8576b"
             ],
             [
              0.6666666666666666,
              "#ed7953"
             ],
             [
              0.7777777777777778,
              "#fb9f3a"
             ],
             [
              0.8888888888888888,
              "#fdca26"
             ],
             [
              1,
              "#f0f921"
             ]
            ],
            "type": "heatmap"
           }
          ],
          "heatmapgl": [
           {
            "colorbar": {
             "outlinewidth": 0,
             "ticks": ""
            },
            "colorscale": [
             [
              0,
              "#0d0887"
             ],
             [
              0.1111111111111111,
              "#46039f"
             ],
             [
              0.2222222222222222,
              "#7201a8"
             ],
             [
              0.3333333333333333,
              "#9c179e"
             ],
             [
              0.4444444444444444,
              "#bd3786"
             ],
             [
              0.5555555555555556,
              "#d8576b"
             ],
             [
              0.6666666666666666,
              "#ed7953"
             ],
             [
              0.7777777777777778,
              "#fb9f3a"
             ],
             [
              0.8888888888888888,
              "#fdca26"
             ],
             [
              1,
              "#f0f921"
             ]
            ],
            "type": "heatmapgl"
           }
          ],
          "histogram": [
           {
            "marker": {
             "colorbar": {
              "outlinewidth": 0,
              "ticks": ""
             }
            },
            "type": "histogram"
           }
          ],
          "histogram2d": [
           {
            "colorbar": {
             "outlinewidth": 0,
             "ticks": ""
            },
            "colorscale": [
             [
              0,
              "#0d0887"
             ],
             [
              0.1111111111111111,
              "#46039f"
             ],
             [
              0.2222222222222222,
              "#7201a8"
             ],
             [
              0.3333333333333333,
              "#9c179e"
             ],
             [
              0.4444444444444444,
              "#bd3786"
             ],
             [
              0.5555555555555556,
              "#d8576b"
             ],
             [
              0.6666666666666666,
              "#ed7953"
             ],
             [
              0.7777777777777778,
              "#fb9f3a"
             ],
             [
              0.8888888888888888,
              "#fdca26"
             ],
             [
              1,
              "#f0f921"
             ]
            ],
            "type": "histogram2d"
           }
          ],
          "histogram2dcontour": [
           {
            "colorbar": {
             "outlinewidth": 0,
             "ticks": ""
            },
            "colorscale": [
             [
              0,
              "#0d0887"
             ],
             [
              0.1111111111111111,
              "#46039f"
             ],
             [
              0.2222222222222222,
              "#7201a8"
             ],
             [
              0.3333333333333333,
              "#9c179e"
             ],
             [
              0.4444444444444444,
              "#bd3786"
             ],
             [
              0.5555555555555556,
              "#d8576b"
             ],
             [
              0.6666666666666666,
              "#ed7953"
             ],
             [
              0.7777777777777778,
              "#fb9f3a"
             ],
             [
              0.8888888888888888,
              "#fdca26"
             ],
             [
              1,
              "#f0f921"
             ]
            ],
            "type": "histogram2dcontour"
           }
          ],
          "mesh3d": [
           {
            "colorbar": {
             "outlinewidth": 0,
             "ticks": ""
            },
            "type": "mesh3d"
           }
          ],
          "parcoords": [
           {
            "line": {
             "colorbar": {
              "outlinewidth": 0,
              "ticks": ""
             }
            },
            "type": "parcoords"
           }
          ],
          "scatter": [
           {
            "marker": {
             "colorbar": {
              "outlinewidth": 0,
              "ticks": ""
             }
            },
            "type": "scatter"
           }
          ],
          "scatter3d": [
           {
            "line": {
             "colorbar": {
              "outlinewidth": 0,
              "ticks": ""
             }
            },
            "marker": {
             "colorbar": {
              "outlinewidth": 0,
              "ticks": ""
             }
            },
            "type": "scatter3d"
           }
          ],
          "scattercarpet": [
           {
            "marker": {
             "colorbar": {
              "outlinewidth": 0,
              "ticks": ""
             }
            },
            "type": "scattercarpet"
           }
          ],
          "scattergeo": [
           {
            "marker": {
             "colorbar": {
              "outlinewidth": 0,
              "ticks": ""
             }
            },
            "type": "scattergeo"
           }
          ],
          "scattergl": [
           {
            "marker": {
             "colorbar": {
              "outlinewidth": 0,
              "ticks": ""
             }
            },
            "type": "scattergl"
           }
          ],
          "scattermapbox": [
           {
            "marker": {
             "colorbar": {
              "outlinewidth": 0,
              "ticks": ""
             }
            },
            "type": "scattermapbox"
           }
          ],
          "scatterpolar": [
           {
            "marker": {
             "colorbar": {
              "outlinewidth": 0,
              "ticks": ""
             }
            },
            "type": "scatterpolar"
           }
          ],
          "scatterpolargl": [
           {
            "marker": {
             "colorbar": {
              "outlinewidth": 0,
              "ticks": ""
             }
            },
            "type": "scatterpolargl"
           }
          ],
          "scatterternary": [
           {
            "marker": {
             "colorbar": {
              "outlinewidth": 0,
              "ticks": ""
             }
            },
            "type": "scatterternary"
           }
          ],
          "surface": [
           {
            "colorbar": {
             "outlinewidth": 0,
             "ticks": ""
            },
            "colorscale": [
             [
              0,
              "#0d0887"
             ],
             [
              0.1111111111111111,
              "#46039f"
             ],
             [
              0.2222222222222222,
              "#7201a8"
             ],
             [
              0.3333333333333333,
              "#9c179e"
             ],
             [
              0.4444444444444444,
              "#bd3786"
             ],
             [
              0.5555555555555556,
              "#d8576b"
             ],
             [
              0.6666666666666666,
              "#ed7953"
             ],
             [
              0.7777777777777778,
              "#fb9f3a"
             ],
             [
              0.8888888888888888,
              "#fdca26"
             ],
             [
              1,
              "#f0f921"
             ]
            ],
            "type": "surface"
           }
          ],
          "table": [
           {
            "cells": {
             "fill": {
              "color": "#EBF0F8"
             },
             "line": {
              "color": "white"
             }
            },
            "header": {
             "fill": {
              "color": "#C8D4E3"
             },
             "line": {
              "color": "white"
             }
            },
            "type": "table"
           }
          ]
         },
         "layout": {
          "annotationdefaults": {
           "arrowcolor": "#2a3f5f",
           "arrowhead": 0,
           "arrowwidth": 1
          },
          "colorscale": {
           "diverging": [
            [
             0,
             "#8e0152"
            ],
            [
             0.1,
             "#c51b7d"
            ],
            [
             0.2,
             "#de77ae"
            ],
            [
             0.3,
             "#f1b6da"
            ],
            [
             0.4,
             "#fde0ef"
            ],
            [
             0.5,
             "#f7f7f7"
            ],
            [
             0.6,
             "#e6f5d0"
            ],
            [
             0.7,
             "#b8e186"
            ],
            [
             0.8,
             "#7fbc41"
            ],
            [
             0.9,
             "#4d9221"
            ],
            [
             1,
             "#276419"
            ]
           ],
           "sequential": [
            [
             0,
             "#0d0887"
            ],
            [
             0.1111111111111111,
             "#46039f"
            ],
            [
             0.2222222222222222,
             "#7201a8"
            ],
            [
             0.3333333333333333,
             "#9c179e"
            ],
            [
             0.4444444444444444,
             "#bd3786"
            ],
            [
             0.5555555555555556,
             "#d8576b"
            ],
            [
             0.6666666666666666,
             "#ed7953"
            ],
            [
             0.7777777777777778,
             "#fb9f3a"
            ],
            [
             0.8888888888888888,
             "#fdca26"
            ],
            [
             1,
             "#f0f921"
            ]
           ],
           "sequentialminus": [
            [
             0,
             "#0d0887"
            ],
            [
             0.1111111111111111,
             "#46039f"
            ],
            [
             0.2222222222222222,
             "#7201a8"
            ],
            [
             0.3333333333333333,
             "#9c179e"
            ],
            [
             0.4444444444444444,
             "#bd3786"
            ],
            [
             0.5555555555555556,
             "#d8576b"
            ],
            [
             0.6666666666666666,
             "#ed7953"
            ],
            [
             0.7777777777777778,
             "#fb9f3a"
            ],
            [
             0.8888888888888888,
             "#fdca26"
            ],
            [
             1,
             "#f0f921"
            ]
           ]
          },
          "colorway": [
           "#636efa",
           "#EF553B",
           "#00cc96",
           "#ab63fa",
           "#FFA15A",
           "#19d3f3",
           "#FF6692",
           "#B6E880",
           "#FF97FF",
           "#FECB52"
          ],
          "font": {
           "color": "#2a3f5f"
          },
          "geo": {
           "bgcolor": "white",
           "lakecolor": "white",
           "landcolor": "#E5ECF6",
           "showlakes": true,
           "showland": true,
           "subunitcolor": "white"
          },
          "hoverlabel": {
           "align": "left"
          },
          "hovermode": "closest",
          "mapbox": {
           "style": "light"
          },
          "paper_bgcolor": "white",
          "plot_bgcolor": "#E5ECF6",
          "polar": {
           "angularaxis": {
            "gridcolor": "white",
            "linecolor": "white",
            "ticks": ""
           },
           "bgcolor": "#E5ECF6",
           "radialaxis": {
            "gridcolor": "white",
            "linecolor": "white",
            "ticks": ""
           }
          },
          "scene": {
           "xaxis": {
            "backgroundcolor": "#E5ECF6",
            "gridcolor": "white",
            "gridwidth": 2,
            "linecolor": "white",
            "showbackground": true,
            "ticks": "",
            "zerolinecolor": "white"
           },
           "yaxis": {
            "backgroundcolor": "#E5ECF6",
            "gridcolor": "white",
            "gridwidth": 2,
            "linecolor": "white",
            "showbackground": true,
            "ticks": "",
            "zerolinecolor": "white"
           },
           "zaxis": {
            "backgroundcolor": "#E5ECF6",
            "gridcolor": "white",
            "gridwidth": 2,
            "linecolor": "white",
            "showbackground": true,
            "ticks": "",
            "zerolinecolor": "white"
           }
          },
          "shapedefaults": {
           "line": {
            "color": "#2a3f5f"
           }
          },
          "ternary": {
           "aaxis": {
            "gridcolor": "white",
            "linecolor": "white",
            "ticks": ""
           },
           "baxis": {
            "gridcolor": "white",
            "linecolor": "white",
            "ticks": ""
           },
           "bgcolor": "#E5ECF6",
           "caxis": {
            "gridcolor": "white",
            "linecolor": "white",
            "ticks": ""
           }
          },
          "title": {
           "x": 0.05
          },
          "xaxis": {
           "automargin": true,
           "gridcolor": "white",
           "linecolor": "white",
           "ticks": "",
           "zerolinecolor": "white",
           "zerolinewidth": 2
          },
          "yaxis": {
           "automargin": true,
           "gridcolor": "white",
           "linecolor": "white",
           "ticks": "",
           "zerolinecolor": "white",
           "zerolinewidth": 2
          }
         }
        },
        "title": {
         "text": "每年的乘客遇难人数与遇难率的对比"
        },
        "yaxis": {
         "title": {
          "text": "遇难人数"
         }
        },
        "yaxis2": {
         "overlaying": "y",
         "side": "right",
         "title": {
          "text": "遇难率"
         }
        }
       }
      },
      "text/html": [
       "<div>\n",
       "        \n",
       "        \n",
       "            <div id=\"6e459e0d-623d-4e70-a8eb-6781a804b91f\" class=\"plotly-graph-div\" style=\"height:525px; width:100%;\"></div>\n",
       "            <script type=\"text/javascript\">\n",
       "                require([\"plotly\"], function(Plotly) {\n",
       "                    window.PLOTLYENV=window.PLOTLYENV || {};\n",
       "                    \n",
       "                if (document.getElementById(\"6e459e0d-623d-4e70-a8eb-6781a804b91f\")) {\n",
       "                    Plotly.newPlot(\n",
       "                        '6e459e0d-623d-4e70-a8eb-6781a804b91f',\n",
       "                        [{\"line\": {\"color\": \"firebrick\", \"width\": 4}, \"name\": \"\\u9047\\u96be\\u4eba\\u6570\", \"type\": \"scatter\", \"x\": [1908, 1912, 1913, 1915, 1916, 1917, 1918, 1919, 1920, 1921, 1922, 1923, 1924, 1925, 1926, 1927, 1928, 1929, 1930, 1931, 1932, 1933, 1934, 1935, 1936, 1937, 1938, 1939, 1940, 1941, 1942, 1943, 1944, 1945, 1946, 1947, 1948, 1949, 1950, 1951, 1952, 1953, 1954, 1955, 1956, 1957, 1958, 1959, 1960, 1961, 1962, 1963, 1964, 1965, 1966, 1967, 1968, 1969, 1970, 1971, 1972, 1973, 1974, 1975, 1976, 1977, 1978, 1979, 1980, 1981, 1982, 1983, 1984, 1985, 1986, 1987, 1988, 1989, 1990, 1991, 1992, 1993, 1994, 1995, 1996, 1997, 1998, 1999, 2000, 2001, 2002, 2003, 2004, 2005, 2006, 2007, 2008, 2009], \"y\": [1.0, 5.0, 45.0, 40.0, 108.0, 124.0, 65.0, 5.0, 24.0, 68.0, 80.0, 77.0, 18.0, 39.0, 30.0, 54.0, 124.0, 119.0, 138.0, 94.0, 75.0, 192.0, 126.0, 226.0, 227.0, 203.0, 414.0, 154.0, 169.0, 229.0, 363.0, 642.0, 601.0, 1314.0, 1306.0, 1233.0, 1069.0, 1085.0, 1382.0, 1166.0, 1200.0, 1188.0, 973.0, 864.0, 989.0, 1004.0, 1266.0, 1027.0, 1565.0, 1411.0, 2047.0, 1303.0, 1354.0, 1636.0, 1559.0, 1789.0, 2156.0, 1799.0, 2049.0, 1932.0, 2937.0, 2485.0, 2318.0, 1639.0, 2059.0, 2138.0, 1558.0, 2011.0, 1827.0, 1230.0, 1787.0, 1611.0, 1228.0, 2670.0, 1471.0, 1713.0, 2034.0, 2293.0, 1312.0, 1839.0, 2122.0, 1568.0, 1876.0, 1593.0, 2386.0, 1673.0, 1544.0, 970.0, 1429.0, 1398.0, 1437.0, 1276.0, 728.0, 1306.0, 1136.0, 931.0, 820.0, 581.0], \"yaxis\": \"y\"}, {\"line\": {\"color\": \"olive\", \"dash\": \"dot\", \"width\": 4}, \"name\": \"\\u9047\\u96be\\u7387\", \"type\": \"scatter\", \"x\": [1908, 1912, 1913, 1915, 1916, 1917, 1918, 1919, 1920, 1921, 1922, 1923, 1924, 1925, 1926, 1927, 1928, 1929, 1930, 1931, 1932, 1933, 1934, 1935, 1936, 1937, 1938, 1939, 1940, 1941, 1942, 1943, 1944, 1945, 1946, 1947, 1948, 1949, 1950, 1951, 1952, 1953, 1954, 1955, 1956, 1957, 1958, 1959, 1960, 1961, 1962, 1963, 1964, 1965, 1966, 1967, 1968, 1969, 1970, 1971, 1972, 1973, 1974, 1975, 1976, 1977, 1978, 1979, 1980, 1981, 1982, 1983, 1984, 1985, 1986, 1987, 1988, 1989, 1990, 1991, 1992, 1993, 1994, 1995, 1996, 1997, 1998, 1999, 2000, 2001, 2002, 2003, 2004, 2005, 2006, 2007, 2008, 2009], \"y\": [0.5, 1.0, 0.8823529411764706, 0.6666666666666666, 0.9908256880733946, 1.0, 1.0, 1.0, 0.7741935483870968, 0.9855072463768116, 0.8791208791208791, 0.9625, 1.0, 0.5735294117647058, 0.6666666666666666, 0.7397260273972602, 0.9253731343283582, 0.7828947368421053, 0.7840909090909091, 0.831858407079646, 0.8620689655172413, 0.9056603773584906, 0.7777777777777778, 0.8278388278388278, 0.7275641025641025, 0.6132930513595166, 0.8697478991596639, 0.8369565217391305, 0.8086124401913876, 0.8207885304659498, 0.8212669683257918, 0.9413489736070382, 0.8812316715542522, 0.9195241427571729, 0.8718291054739653, 0.7858508604206501, 0.8098484848484848, 0.7119422572178478, 0.8898905344494527, 0.8780120481927711, 0.7994670219853431, 0.7962466487935657, 0.8395168248490078, 0.7322033898305085, 0.6602136181575434, 0.6797562626946513, 0.775260257195346, 0.822257806244996, 0.8176593521421107, 0.770617149098853, 0.8372188139059304, 0.8428201811125485, 0.7885847408270239, 0.7680751173708921, 0.8603752759381899, 0.764856776400171, 0.7363387978142076, 0.7549307595467898, 0.7642670645281612, 0.7526295286326451, 0.8079779917469051, 0.7238566851150597, 0.7565274151436031, 0.7101386481802426, 0.7831875237732978, 0.8031555221637866, 0.5723732549595886, 0.8184778184778185, 0.6764161421695668, 0.7935483870967742, 0.5649699652228897, 0.6849489795918368, 0.7455980570734669, 0.7672413793103449, 0.5728193146417445, 0.7716216216216216, 0.6697398748765229, 0.6294262970079605, 0.5475792988313857, 0.7478649857665718, 0.7156829679595278, 0.6482017362546507, 0.6039922730199614, 0.7542613636363636, 0.7802485284499673, 0.6732394366197183, 0.7677772252610642, 0.35170413343002177, 0.6062791684344506, 0.6622453813358598, 0.7992213570634038, 0.8461538461538461, 0.7769477054429029, 0.6035120147874307, 0.8039631988676574, 0.6825513196480938, 0.5604921394395078, 0.6520763187429854], \"yaxis\": \"y2\"}],\n",
       "                        {\"template\": {\"data\": {\"bar\": [{\"error_x\": {\"color\": \"#2a3f5f\"}, \"error_y\": {\"color\": \"#2a3f5f\"}, \"marker\": {\"line\": {\"color\": \"#E5ECF6\", \"width\": 0.5}}, \"type\": \"bar\"}], \"barpolar\": [{\"marker\": {\"line\": {\"color\": \"#E5ECF6\", \"width\": 0.5}}, \"type\": \"barpolar\"}], \"carpet\": [{\"aaxis\": {\"endlinecolor\": \"#2a3f5f\", \"gridcolor\": \"white\", \"linecolor\": \"white\", \"minorgridcolor\": \"white\", \"startlinecolor\": \"#2a3f5f\"}, \"baxis\": {\"endlinecolor\": \"#2a3f5f\", \"gridcolor\": \"white\", \"linecolor\": \"white\", \"minorgridcolor\": \"white\", \"startlinecolor\": \"#2a3f5f\"}, \"type\": \"carpet\"}], \"choropleth\": [{\"colorbar\": {\"outlinewidth\": 0, \"ticks\": \"\"}, \"type\": \"choropleth\"}], \"contour\": [{\"colorbar\": {\"outlinewidth\": 0, \"ticks\": \"\"}, \"colorscale\": [[0.0, \"#0d0887\"], [0.1111111111111111, \"#46039f\"], [0.2222222222222222, \"#7201a8\"], [0.3333333333333333, \"#9c179e\"], [0.4444444444444444, \"#bd3786\"], [0.5555555555555556, \"#d8576b\"], [0.6666666666666666, \"#ed7953\"], [0.7777777777777778, \"#fb9f3a\"], [0.8888888888888888, \"#fdca26\"], [1.0, \"#f0f921\"]], \"type\": \"contour\"}], \"contourcarpet\": [{\"colorbar\": {\"outlinewidth\": 0, \"ticks\": \"\"}, \"type\": \"contourcarpet\"}], \"heatmap\": [{\"colorbar\": {\"outlinewidth\": 0, \"ticks\": \"\"}, \"colorscale\": [[0.0, \"#0d0887\"], [0.1111111111111111, \"#46039f\"], [0.2222222222222222, \"#7201a8\"], [0.3333333333333333, \"#9c179e\"], [0.4444444444444444, \"#bd3786\"], [0.5555555555555556, \"#d8576b\"], [0.6666666666666666, \"#ed7953\"], [0.7777777777777778, \"#fb9f3a\"], [0.8888888888888888, \"#fdca26\"], [1.0, \"#f0f921\"]], \"type\": \"heatmap\"}], \"heatmapgl\": [{\"colorbar\": {\"outlinewidth\": 0, \"ticks\": \"\"}, \"colorscale\": [[0.0, \"#0d0887\"], [0.1111111111111111, \"#46039f\"], [0.2222222222222222, \"#7201a8\"], [0.3333333333333333, \"#9c179e\"], [0.4444444444444444, \"#bd3786\"], [0.5555555555555556, \"#d8576b\"], [0.6666666666666666, \"#ed7953\"], [0.7777777777777778, \"#fb9f3a\"], [0.8888888888888888, \"#fdca26\"], [1.0, \"#f0f921\"]], \"type\": \"heatmapgl\"}], \"histogram\": [{\"marker\": {\"colorbar\": {\"outlinewidth\": 0, \"ticks\": \"\"}}, \"type\": \"histogram\"}], \"histogram2d\": [{\"colorbar\": {\"outlinewidth\": 0, \"ticks\": \"\"}, \"colorscale\": [[0.0, \"#0d0887\"], [0.1111111111111111, \"#46039f\"], [0.2222222222222222, \"#7201a8\"], [0.3333333333333333, \"#9c179e\"], [0.4444444444444444, \"#bd3786\"], [0.5555555555555556, \"#d8576b\"], [0.6666666666666666, \"#ed7953\"], [0.7777777777777778, \"#fb9f3a\"], [0.8888888888888888, \"#fdca26\"], [1.0, \"#f0f921\"]], \"type\": \"histogram2d\"}], \"histogram2dcontour\": [{\"colorbar\": {\"outlinewidth\": 0, \"ticks\": \"\"}, \"colorscale\": [[0.0, \"#0d0887\"], [0.1111111111111111, \"#46039f\"], [0.2222222222222222, \"#7201a8\"], [0.3333333333333333, \"#9c179e\"], [0.4444444444444444, \"#bd3786\"], [0.5555555555555556, \"#d8576b\"], [0.6666666666666666, \"#ed7953\"], [0.7777777777777778, \"#fb9f3a\"], [0.8888888888888888, \"#fdca26\"], [1.0, \"#f0f921\"]], \"type\": \"histogram2dcontour\"}], \"mesh3d\": [{\"colorbar\": {\"outlinewidth\": 0, \"ticks\": \"\"}, \"type\": \"mesh3d\"}], \"parcoords\": [{\"line\": {\"colorbar\": {\"outlinewidth\": 0, \"ticks\": \"\"}}, \"type\": \"parcoords\"}], \"scatter\": [{\"marker\": {\"colorbar\": {\"outlinewidth\": 0, \"ticks\": \"\"}}, \"type\": \"scatter\"}], \"scatter3d\": [{\"line\": {\"colorbar\": {\"outlinewidth\": 0, \"ticks\": \"\"}}, \"marker\": {\"colorbar\": {\"outlinewidth\": 0, \"ticks\": \"\"}}, \"type\": \"scatter3d\"}], \"scattercarpet\": [{\"marker\": {\"colorbar\": {\"outlinewidth\": 0, \"ticks\": \"\"}}, \"type\": \"scattercarpet\"}], \"scattergeo\": [{\"marker\": {\"colorbar\": {\"outlinewidth\": 0, \"ticks\": \"\"}}, \"type\": \"scattergeo\"}], \"scattergl\": [{\"marker\": {\"colorbar\": {\"outlinewidth\": 0, \"ticks\": \"\"}}, \"type\": \"scattergl\"}], \"scattermapbox\": [{\"marker\": {\"colorbar\": {\"outlinewidth\": 0, \"ticks\": \"\"}}, \"type\": \"scattermapbox\"}], \"scatterpolar\": [{\"marker\": {\"colorbar\": {\"outlinewidth\": 0, \"ticks\": \"\"}}, \"type\": \"scatterpolar\"}], \"scatterpolargl\": [{\"marker\": {\"colorbar\": {\"outlinewidth\": 0, \"ticks\": \"\"}}, \"type\": \"scatterpolargl\"}], \"scatterternary\": [{\"marker\": {\"colorbar\": {\"outlinewidth\": 0, \"ticks\": \"\"}}, \"type\": \"scatterternary\"}], \"surface\": [{\"colorbar\": {\"outlinewidth\": 0, \"ticks\": \"\"}, \"colorscale\": [[0.0, \"#0d0887\"], [0.1111111111111111, \"#46039f\"], [0.2222222222222222, \"#7201a8\"], [0.3333333333333333, \"#9c179e\"], [0.4444444444444444, \"#bd3786\"], [0.5555555555555556, \"#d8576b\"], [0.6666666666666666, \"#ed7953\"], [0.7777777777777778, \"#fb9f3a\"], [0.8888888888888888, \"#fdca26\"], [1.0, \"#f0f921\"]], \"type\": \"surface\"}], \"table\": [{\"cells\": {\"fill\": {\"color\": \"#EBF0F8\"}, \"line\": {\"color\": \"white\"}}, \"header\": {\"fill\": {\"color\": \"#C8D4E3\"}, \"line\": {\"color\": \"white\"}}, \"type\": \"table\"}]}, \"layout\": {\"annotationdefaults\": {\"arrowcolor\": \"#2a3f5f\", \"arrowhead\": 0, \"arrowwidth\": 1}, \"colorscale\": {\"diverging\": [[0, \"#8e0152\"], [0.1, \"#c51b7d\"], [0.2, \"#de77ae\"], [0.3, \"#f1b6da\"], [0.4, \"#fde0ef\"], [0.5, \"#f7f7f7\"], [0.6, \"#e6f5d0\"], [0.7, \"#b8e186\"], [0.8, \"#7fbc41\"], [0.9, \"#4d9221\"], [1, \"#276419\"]], \"sequential\": [[0.0, \"#0d0887\"], [0.1111111111111111, \"#46039f\"], [0.2222222222222222, \"#7201a8\"], [0.3333333333333333, \"#9c179e\"], [0.4444444444444444, \"#bd3786\"], [0.5555555555555556, \"#d8576b\"], [0.6666666666666666, \"#ed7953\"], [0.7777777777777778, \"#fb9f3a\"], [0.8888888888888888, \"#fdca26\"], [1.0, \"#f0f921\"]], \"sequentialminus\": [[0.0, \"#0d0887\"], [0.1111111111111111, \"#46039f\"], [0.2222222222222222, \"#7201a8\"], [0.3333333333333333, \"#9c179e\"], [0.4444444444444444, \"#bd3786\"], [0.5555555555555556, \"#d8576b\"], [0.6666666666666666, \"#ed7953\"], [0.7777777777777778, \"#fb9f3a\"], [0.8888888888888888, \"#fdca26\"], [1.0, \"#f0f921\"]]}, \"colorway\": [\"#636efa\", \"#EF553B\", \"#00cc96\", \"#ab63fa\", \"#FFA15A\", \"#19d3f3\", \"#FF6692\", \"#B6E880\", \"#FF97FF\", \"#FECB52\"], \"font\": {\"color\": \"#2a3f5f\"}, \"geo\": {\"bgcolor\": \"white\", \"lakecolor\": \"white\", \"landcolor\": \"#E5ECF6\", \"showlakes\": true, \"showland\": true, \"subunitcolor\": \"white\"}, \"hoverlabel\": {\"align\": \"left\"}, \"hovermode\": \"closest\", \"mapbox\": {\"style\": \"light\"}, \"paper_bgcolor\": \"white\", \"plot_bgcolor\": \"#E5ECF6\", \"polar\": {\"angularaxis\": {\"gridcolor\": \"white\", \"linecolor\": \"white\", \"ticks\": \"\"}, \"bgcolor\": \"#E5ECF6\", \"radialaxis\": {\"gridcolor\": \"white\", \"linecolor\": \"white\", \"ticks\": \"\"}}, \"scene\": {\"xaxis\": {\"backgroundcolor\": \"#E5ECF6\", \"gridcolor\": \"white\", \"gridwidth\": 2, \"linecolor\": \"white\", \"showbackground\": true, \"ticks\": \"\", \"zerolinecolor\": \"white\"}, \"yaxis\": {\"backgroundcolor\": \"#E5ECF6\", \"gridcolor\": \"white\", \"gridwidth\": 2, \"linecolor\": \"white\", \"showbackground\": true, \"ticks\": \"\", \"zerolinecolor\": \"white\"}, \"zaxis\": {\"backgroundcolor\": \"#E5ECF6\", \"gridcolor\": \"white\", \"gridwidth\": 2, \"linecolor\": \"white\", \"showbackground\": true, \"ticks\": \"\", \"zerolinecolor\": \"white\"}}, \"shapedefaults\": {\"line\": {\"color\": \"#2a3f5f\"}}, \"ternary\": {\"aaxis\": {\"gridcolor\": \"white\", \"linecolor\": \"white\", \"ticks\": \"\"}, \"baxis\": {\"gridcolor\": \"white\", \"linecolor\": \"white\", \"ticks\": \"\"}, \"bgcolor\": \"#E5ECF6\", \"caxis\": {\"gridcolor\": \"white\", \"linecolor\": \"white\", \"ticks\": \"\"}}, \"title\": {\"x\": 0.05}, \"xaxis\": {\"automargin\": true, \"gridcolor\": \"white\", \"linecolor\": \"white\", \"ticks\": \"\", \"zerolinecolor\": \"white\", \"zerolinewidth\": 2}, \"yaxis\": {\"automargin\": true, \"gridcolor\": \"white\", \"linecolor\": \"white\", \"ticks\": \"\", \"zerolinecolor\": \"white\", \"zerolinewidth\": 2}}}, \"title\": {\"text\": \"\\u6bcf\\u5e74\\u7684\\u4e58\\u5ba2\\u9047\\u96be\\u4eba\\u6570\\u4e0e\\u9047\\u96be\\u7387\\u7684\\u5bf9\\u6bd4\"}, \"yaxis\": {\"title\": {\"text\": \"\\u9047\\u96be\\u4eba\\u6570\"}}, \"yaxis2\": {\"overlaying\": \"y\", \"side\": \"right\", \"title\": {\"text\": \"\\u9047\\u96be\\u7387\"}}},\n",
       "                        {\"responsive\": true}\n",
       "                    ).then(function(){\n",
       "                            \n",
       "var gd = document.getElementById('6e459e0d-623d-4e70-a8eb-6781a804b91f');\n",
       "var x = new MutationObserver(function (mutations, observer) {{\n",
       "        var display = window.getComputedStyle(gd).display;\n",
       "        if (!display || display === 'none') {{\n",
       "            console.log([gd, 'removed!']);\n",
       "            Plotly.purge(gd);\n",
       "            observer.disconnect();\n",
       "        }}\n",
       "}});\n",
       "\n",
       "// Listen for the removal of the full notebook cells\n",
       "var notebookContainer = gd.closest('#notebook-container');\n",
       "if (notebookContainer) {{\n",
       "    x.observe(notebookContainer, {childList: true});\n",
       "}}\n",
       "\n",
       "// Listen for the clearing of the current output cell\n",
       "var outputEl = gd.closest('.output');\n",
       "if (outputEl) {{\n",
       "    x.observe(outputEl, {childList: true});\n",
       "}}\n",
       "\n",
       "                        })\n",
       "                };\n",
       "                });\n",
       "            </script>\n",
       "        </div>"
      ]
     },
     "metadata": {},
     "output_type": "display_data"
    }
   ],
   "source": [
    "import plotly.graph_objects as go\n",
    "from plotly.offline import init_notebook_mode, iplot\n",
    "\n",
    "year = data.groupby(data.Date.dt.year).size().index\n",
    "death_toll = data.groupby(data.Date.dt.year)['Fatalities'].sum()\n",
    "aboard_num = data.groupby(data.Date.dt.year)['Aboard'].sum()\n",
    "death_ratio = death_toll/aboard_num\n",
    "\n",
    "fig = go.Figure()\n",
    "\n",
    "trace1 = go.Scatter(x=year, y=death_toll,name = \"遇难人数\",line=dict(color='firebrick', width = 4),yaxis = 'y1')\n",
    "trace2 = go.Scatter(x=year, y=death_ratio,name = \"遇难率\",line=dict(color='olive',width = 4,dash = 'dot'),yaxis = 'y2')\n",
    "trace = [trace1,trace2]\n",
    "\n",
    "layout = dict(title = '每年的乘客遇难人数与遇难率的对比',\n",
    "              yaxis1 = dict(title='遇难人数'),\n",
    "              yaxis2 = dict(title='遇难率',overlaying='y',side='right'))\n",
    "\n",
    "fig = dict(data = trace, layout = layout)\n",
    "\n",
    "iplot(fig)"
   ]
  },
  {
   "cell_type": "markdown",
   "metadata": {},
   "source": [
    "可以看到：\n",
    "+ 空难的乘客遇难人数也在上世纪60年代末和80年代末达到顶峰，之后总体呈现下降趋势。\n",
    "+ 从100年的整体来看，空难死亡率逐步下降，从侧面反应了人类飞行技术的进步以及更好的应急措施。"
   ]
  },
  {
   "cell_type": "markdown",
   "metadata": {},
   "source": [
    "# 4.空难与航空公司的分析"
   ]
  },
  {
   "cell_type": "markdown",
   "metadata": {},
   "source": [
    "接下来我们分析一下哪些航空公司的空难数较多。我们将数据按照航空公司进行分组，求出空难最多的前10个航空公司，通过柱状图的方式展现不同航空公司的空难次数及对应的死亡人数。"
   ]
  },
  {
   "cell_type": "code",
   "execution_count": 255,
   "metadata": {},
   "outputs": [
    {
     "ename": "AttributeError",
     "evalue": "'Series' object has no attribute 'columns'",
     "output_type": "error",
     "traceback": [
      "\u001b[0;31m---------------------------------------------------------------------------\u001b[0m",
      "\u001b[0;31mAttributeError\u001b[0m                            Traceback (most recent call last)",
      "\u001b[0;32m<ipython-input-255-7c8f392c7822>\u001b[0m in \u001b[0;36m<module>\u001b[0;34m\u001b[0m\n\u001b[1;32m      3\u001b[0m \u001b[0mcounts\u001b[0m \u001b[0;34m=\u001b[0m \u001b[0mdata\u001b[0m\u001b[0;34m[\u001b[0m\u001b[0;34m'Operator'\u001b[0m\u001b[0;34m]\u001b[0m\u001b[0;34m.\u001b[0m\u001b[0mvalue_counts\u001b[0m\u001b[0;34m(\u001b[0m\u001b[0;34m)\u001b[0m\u001b[0;34m.\u001b[0m\u001b[0mhead\u001b[0m\u001b[0;34m(\u001b[0m\u001b[0;36m10\u001b[0m\u001b[0;34m)\u001b[0m\u001b[0;34m\u001b[0m\u001b[0;34m\u001b[0m\u001b[0m\n\u001b[1;32m      4\u001b[0m \u001b[0;34m\u001b[0m\u001b[0m\n\u001b[0;32m----> 5\u001b[0;31m \u001b[0mfig\u001b[0m \u001b[0;34m=\u001b[0m \u001b[0mpx\u001b[0m\u001b[0;34m.\u001b[0m\u001b[0mbar\u001b[0m\u001b[0;34m(\u001b[0m\u001b[0mcounts\u001b[0m\u001b[0;34m,\u001b[0m \u001b[0mx\u001b[0m\u001b[0;34m=\u001b[0m\u001b[0;34m'year'\u001b[0m\u001b[0;34m,\u001b[0m \u001b[0my\u001b[0m\u001b[0;34m=\u001b[0m\u001b[0;34m'pop'\u001b[0m\u001b[0;34m)\u001b[0m\u001b[0;34m\u001b[0m\u001b[0;34m\u001b[0m\u001b[0m\n\u001b[0m\u001b[1;32m      6\u001b[0m \u001b[0mfig\u001b[0m\u001b[0;34m.\u001b[0m\u001b[0mshow\u001b[0m\u001b[0;34m(\u001b[0m\u001b[0;34m)\u001b[0m\u001b[0;34m\u001b[0m\u001b[0;34m\u001b[0m\u001b[0m\n",
      "\u001b[0;32m/anaconda3/envs/py36/lib/python3.6/site-packages/plotly/express/_chart_types.py\u001b[0m in \u001b[0;36mbar\u001b[0;34m(data_frame, x, y, color, facet_row, facet_col, hover_name, hover_data, text, error_x, error_x_minus, error_y, error_y_minus, animation_frame, animation_group, category_orders, labels, color_discrete_sequence, color_discrete_map, color_continuous_scale, range_color, color_continuous_midpoint, opacity, orientation, barmode, log_x, log_y, range_x, range_y, title, template, width, height)\u001b[0m\n\u001b[1;32m    296\u001b[0m         \u001b[0mconstructor\u001b[0m\u001b[0;34m=\u001b[0m\u001b[0mgo\u001b[0m\u001b[0;34m.\u001b[0m\u001b[0mBar\u001b[0m\u001b[0;34m,\u001b[0m\u001b[0;34m\u001b[0m\u001b[0;34m\u001b[0m\u001b[0m\n\u001b[1;32m    297\u001b[0m         \u001b[0mtrace_patch\u001b[0m\u001b[0;34m=\u001b[0m\u001b[0mdict\u001b[0m\u001b[0;34m(\u001b[0m\u001b[0morientation\u001b[0m\u001b[0;34m=\u001b[0m\u001b[0morientation\u001b[0m\u001b[0;34m,\u001b[0m \u001b[0mtextposition\u001b[0m\u001b[0;34m=\u001b[0m\u001b[0;34m\"auto\"\u001b[0m\u001b[0;34m)\u001b[0m\u001b[0;34m,\u001b[0m\u001b[0;34m\u001b[0m\u001b[0;34m\u001b[0m\u001b[0m\n\u001b[0;32m--> 298\u001b[0;31m         \u001b[0mlayout_patch\u001b[0m\u001b[0;34m=\u001b[0m\u001b[0mdict\u001b[0m\u001b[0;34m(\u001b[0m\u001b[0mbarmode\u001b[0m\u001b[0;34m=\u001b[0m\u001b[0mbarmode\u001b[0m\u001b[0;34m)\u001b[0m\u001b[0;34m,\u001b[0m\u001b[0;34m\u001b[0m\u001b[0;34m\u001b[0m\u001b[0m\n\u001b[0m\u001b[1;32m    299\u001b[0m     )\n\u001b[1;32m    300\u001b[0m \u001b[0;34m\u001b[0m\u001b[0m\n",
      "\u001b[0;32m/anaconda3/envs/py36/lib/python3.6/site-packages/plotly/express/_core.py\u001b[0m in \u001b[0;36mmake_figure\u001b[0;34m(args, constructor, trace_patch, layout_patch)\u001b[0m\n\u001b[1;32m    867\u001b[0m \u001b[0;34m\u001b[0m\u001b[0m\n\u001b[1;32m    868\u001b[0m     trace_specs, grouped_mappings, sizeref, show_colorbar = infer_config(\n\u001b[0;32m--> 869\u001b[0;31m         \u001b[0margs\u001b[0m\u001b[0;34m,\u001b[0m \u001b[0mconstructor\u001b[0m\u001b[0;34m,\u001b[0m \u001b[0mtrace_patch\u001b[0m\u001b[0;34m\u001b[0m\u001b[0;34m\u001b[0m\u001b[0m\n\u001b[0m\u001b[1;32m    870\u001b[0m     )\n\u001b[1;32m    871\u001b[0m     \u001b[0mgrouper\u001b[0m \u001b[0;34m=\u001b[0m \u001b[0;34m[\u001b[0m\u001b[0mx\u001b[0m\u001b[0;34m.\u001b[0m\u001b[0mgrouper\u001b[0m \u001b[0;32mor\u001b[0m \u001b[0mone_group\u001b[0m \u001b[0;32mfor\u001b[0m \u001b[0mx\u001b[0m \u001b[0;32min\u001b[0m \u001b[0mgrouped_mappings\u001b[0m\u001b[0;34m]\u001b[0m \u001b[0;32mor\u001b[0m \u001b[0;34m[\u001b[0m\u001b[0mone_group\u001b[0m\u001b[0;34m]\u001b[0m\u001b[0;34m\u001b[0m\u001b[0;34m\u001b[0m\u001b[0m\n",
      "\u001b[0;32m/anaconda3/envs/py36/lib/python3.6/site-packages/plotly/express/_core.py\u001b[0m in \u001b[0;36minfer_config\u001b[0;34m(args, constructor, trace_patch)\u001b[0m\n\u001b[1;32m    732\u001b[0m     \u001b[0;31m# Validate that the strings provided as attribute values reference columns\u001b[0m\u001b[0;34m\u001b[0m\u001b[0;34m\u001b[0m\u001b[0;34m\u001b[0m\u001b[0m\n\u001b[1;32m    733\u001b[0m     \u001b[0;31m# in the provided data_frame\u001b[0m\u001b[0;34m\u001b[0m\u001b[0;34m\u001b[0m\u001b[0;34m\u001b[0m\u001b[0m\n\u001b[0;32m--> 734\u001b[0;31m     \u001b[0mdf_columns\u001b[0m \u001b[0;34m=\u001b[0m \u001b[0margs\u001b[0m\u001b[0;34m[\u001b[0m\u001b[0;34m\"data_frame\"\u001b[0m\u001b[0;34m]\u001b[0m\u001b[0;34m.\u001b[0m\u001b[0mcolumns\u001b[0m\u001b[0;34m\u001b[0m\u001b[0;34m\u001b[0m\u001b[0m\n\u001b[0m\u001b[1;32m    735\u001b[0m \u001b[0;34m\u001b[0m\u001b[0m\n\u001b[1;32m    736\u001b[0m     \u001b[0;32mfor\u001b[0m \u001b[0mattr\u001b[0m \u001b[0;32min\u001b[0m \u001b[0mattrables\u001b[0m \u001b[0;34m+\u001b[0m \u001b[0mgroup_attrables\u001b[0m \u001b[0;34m+\u001b[0m \u001b[0;34m[\u001b[0m\u001b[0;34m\"color\"\u001b[0m\u001b[0;34m]\u001b[0m\u001b[0;34m:\u001b[0m\u001b[0;34m\u001b[0m\u001b[0;34m\u001b[0m\u001b[0m\n",
      "\u001b[0;32m/anaconda3/envs/py36/lib/python3.6/site-packages/pandas/core/generic.py\u001b[0m in \u001b[0;36m__getattr__\u001b[0;34m(self, name)\u001b[0m\n\u001b[1;32m   3608\u001b[0m         if (name in self._internal_names_set or name in self._metadata or\n\u001b[1;32m   3609\u001b[0m                 name in self._accessors):\n\u001b[0;32m-> 3610\u001b[0;31m             \u001b[0;32mreturn\u001b[0m \u001b[0mobject\u001b[0m\u001b[0;34m.\u001b[0m\u001b[0m__getattribute__\u001b[0m\u001b[0;34m(\u001b[0m\u001b[0mself\u001b[0m\u001b[0;34m,\u001b[0m \u001b[0mname\u001b[0m\u001b[0;34m)\u001b[0m\u001b[0;34m\u001b[0m\u001b[0;34m\u001b[0m\u001b[0m\n\u001b[0m\u001b[1;32m   3611\u001b[0m         \u001b[0;32melse\u001b[0m\u001b[0;34m:\u001b[0m\u001b[0;34m\u001b[0m\u001b[0;34m\u001b[0m\u001b[0m\n\u001b[1;32m   3612\u001b[0m             \u001b[0;32mif\u001b[0m \u001b[0mname\u001b[0m \u001b[0;32min\u001b[0m \u001b[0mself\u001b[0m\u001b[0;34m.\u001b[0m\u001b[0m_info_axis\u001b[0m\u001b[0;34m:\u001b[0m\u001b[0;34m\u001b[0m\u001b[0;34m\u001b[0m\u001b[0m\n",
      "\u001b[0;31mAttributeError\u001b[0m: 'Series' object has no attribute 'columns'"
     ]
    }
   ],
   "source": [
    "import plotly.express as px\n",
    "\n",
    "counts = data['Operator'].value_counts().head(10)\n",
    "\n",
    "fig = px.bar(counts, x='year', y='pop')\n",
    "fig.show()"
   ]
  },
  {
   "cell_type": "code",
   "execution_count": 171,
   "metadata": {
    "scrolled": true
   },
   "outputs": [
    {
     "data": {
      "image/png": "[encoded data removed]",
      "text/plain": [
       "<Figure size 864x432 with 1 Axes>"
      ]
     },
     "metadata": {
      "needs_background": "light"
     },
     "output_type": "display_data"
    }
   ],
   "source": [
    "plt.figure(figsize=(12,6))\n",
    "\n",
    "data['Operator'].value_counts().head(10).plot(kind='bar')\n",
    "\n",
    "# 在柱形上方显示计数\n",
    "counts = data['Operator'].value_counts().values\n",
    "for index, item in zip(np.arange(10), counts): \n",
    "    plt.text(index, item, item, ha=\"center\", va= \"bottom\", fontsize=12) \n",
    "    \n",
    "plt.xlabel('航空公司')\n",
    "plt.ylabel('次数')\n",
    "plt.title('空难次数最多的航空公司')\n",
    "plt.show()"
   ]
  },
  {
   "cell_type": "markdown",
   "metadata": {},
   "source": [
    "从飞机的归属来看，空难数最多的是俄罗斯国际航空公司(Aeroflot)，空难数达到了179起，不愧是战斗民族；其次是美国空军(U.S. Air Force)176起；排在第三的是法国航空(Air France)，空难数为70起。"
   ]
  },
  {
   "cell_type": "markdown",
   "metadata": {},
   "source": [
    "# 5.军用航班与民用航班的空难分析"
   ]
  },
  {
   "cell_type": "markdown",
   "metadata": {},
   "source": [
    "我们先从数据中提取军用航班和民用航班的的空难数据，分别保存在`Military_flights`和`Civil_flights`中，同时打印各自的空难数。"
   ]
  },
  {
   "cell_type": "code",
   "execution_count": 172,
   "metadata": {
    "scrolled": true
   },
   "outputs": [
    {
     "name": "stdout",
     "output_type": "stream",
     "text": [
      "军用航班空难数: 781 \n",
      "民用航班空难数: 4487\n"
     ]
    }
   ],
   "source": [
    "Military_flights = data[data['Operator'].str.contains('Military')]\n",
    "Civil_flights = data[~data['Operator'].str.contains('Military')]\n",
    "print('军用航班空难数:',len(Military_flights),'\\n民用航班空难数:',len(Civil_flights))\n"
   ]
  },
  {
   "cell_type": "markdown",
   "metadata": {},
   "source": [
    "接下来我们根据空难数进行排序，分析哪些军事机构空难数最多。"
   ]
  },
  {
   "cell_type": "code",
   "execution_count": 173,
   "metadata": {},
   "outputs": [
    {
     "name": "stdout",
     "output_type": "stream",
     "text": [
      "\n",
      "军用航班空难机构排名top10:\n",
      " Military - U.S. Air Force                 176\n",
      "Military - U.S. Army Air Forces            43\n",
      "Military - U.S. Navy                       36\n",
      "Military - Royal Air Force                 36\n",
      "Military - U.S. Army                       23\n",
      "Military -Royal Air Force                  22\n",
      "Military - Indian Air Force                16\n",
      "Military - German Navy                     15\n",
      "Military - Afghan Republican Air Force     15\n",
      "Military - Russian Air Force               14\n",
      "Name: Operator, dtype: int64\n"
     ]
    }
   ],
   "source": [
    "print('\\n军用航班空难机构排名top10:\\n',Military_flights['Operator'].value_counts()[:10])"
   ]
  },
  {
   "cell_type": "markdown",
   "metadata": {},
   "source": [
    "可以看到：美国空军、美国陆军航空兵、美国海军、英国皇家空军、美国陆军位于军用航班空难榜的前五名。从国家军队发生空难的次数来看，在美国发生的空难数远超其他国家，说明了美国在试飞、训练、军演、特殊任务、局部战争中经常出现飞机失事的情况，也从侧面说明了美国在20世纪的军事霸主地位。"
   ]
  },
  {
   "cell_type": "markdown",
   "metadata": {},
   "source": [
    "接下来，我们通过可视化的方法分析一下军用航班和民用航班的占比，以及将两者每年的空难次数进行对比。"
   ]
  },
  {
   "cell_type": "code",
   "execution_count": 174,
   "metadata": {},
   "outputs": [
    {
     "data": {
      "image/png": "[encoded data removed]",
      "text/plain": [
       "<Figure size 1152x432 with 2 Axes>"
      ]
     },
     "metadata": {
      "needs_background": "light"
     },
     "output_type": "display_data"
    }
   ],
   "source": [
    "fig,[ax1,ax2] = plt.subplots(1,2,figsize=(16,6))\n",
    "\n",
    "pd.Series([len(Military_flights),len(Civil_flights)],index = ['军用航班','民用航班']).plot(kind = 'pie',autopct='%1.1f%%',ax = ax1)\n",
    "\n",
    "Military_flights.groupby(Military_flights.Date.dt.year).size().plot(color = 'darkblue', marker = \".\", linewidth = 1,ax = ax2)\n",
    "Civil_flights.groupby(Civil_flights.Date.dt.year).size().plot(color = 'orange', marker = \".\", linewidth = 1,ax = ax2)\n",
    "\n",
    "ax1.legend(['军用航班','民用航班'])\n",
    "ax2.legend(['军用航班','民用航班'])\n",
    "ax2.set_xlabel('年份')\n",
    "ax2.set_ylabel('次数')\n",
    "ax2.set_title('军用航班与民用航班每年的空难次数')\n",
    "\n",
    "plt.show()"
   ]
  },
  {
   "cell_type": "markdown",
   "metadata": {},
   "source": [
    "# 6.空难与飞机型号的分析"
   ]
  },
  {
   "cell_type": "markdown",
   "metadata": {},
   "source": [
    "接下来我们分析一下哪些飞机型号的空难数较多。我们将数据按照飞机型号进行分组，求出空难最多的前10个飞机型号，通过柱状图的方式展现不同飞机型号的空难次数。"
   ]
  },
  {
   "cell_type": "code",
   "execution_count": 175,
   "metadata": {},
   "outputs": [
    {
     "data": {
      "image/png": "[encoded data removed]",
      "text/plain": [
       "<Figure size 864x432 with 1 Axes>"
      ]
     },
     "metadata": {
      "needs_background": "light"
     },
     "output_type": "display_data"
    }
   ],
   "source": [
    "plt.figure(figsize=(12,6))\n",
    "\n",
    "data['Type'].value_counts().head(10).plot(kind='bar')\n",
    "\n",
    "# 在柱形上方显示计数\n",
    "counts = data['Type'].value_counts().values\n",
    "for index, item in zip(np.arange(10), counts): \n",
    "    plt.text(index, item, item, ha=\"center\", va= \"bottom\", fontsize=12) \n",
    "    \n",
    "plt.xlabel('飞机型号')\n",
    "plt.ylabel('次数')\n",
    "plt.title('空难次数最多的飞机型号')\n",
    "plt.show()"
   ]
  },
  {
   "cell_type": "markdown",
   "metadata": {},
   "source": [
    "+ 从机型来看，空难数第一的是“道格拉斯DC-3型飞机”，其次是\"德哈维兰加拿大DHC-6\"，再之后是\"道格拉斯DC-47A\",和“DC-47”。\n",
    "+ 需要说明的是，DC-47实际上就是DC-3的军用型，二战结束之后，大量的DC-47转为民用，这时它们就又用回了DC-3这个型号。\n",
    "+ DC-3及其军用型的总空难数，在空难数前十的机型的空难之和中，占到了62.5%。"
   ]
  },
  {
   "cell_type": "markdown",
   "metadata": {},
   "source": [
    "# 7.空难发生地点和航线的分析"
   ]
  },
  {
   "cell_type": "markdown",
   "metadata": {},
   "source": [
    "接下来我们分析一下哪些地点的空难数较多。我们将数据按照空难发生地点进行分组，求出空难发生最多的前10个地点，通过柱状图的方式展现不同地点的空难次数。"
   ]
  },
  {
   "cell_type": "code",
   "execution_count": 159,
   "metadata": {},
   "outputs": [],
   "source": [
    "locations = list(data['Location'].value_counts().head(2).index)\n",
    "values = list(data['Location'].value_counts().head(2).values)"
   ]
  },
  {
   "cell_type": "code",
   "execution_count": 160,
   "metadata": {},
   "outputs": [
    {
     "data": {
      "text/plain": [
       "['Sao Paulo, Brazil', 'Moscow, Russia']"
      ]
     },
     "execution_count": 160,
     "metadata": {},
     "output_type": "execute_result"
    }
   ],
   "source": [
    "locations"
   ]
  },
  {
   "cell_type": "code",
   "execution_count": 161,
   "metadata": {},
   "outputs": [],
   "source": [
    "Locations = []\n",
    "for location in locations:\n",
    "    try:\n",
    "        Locations.append(location.split(', ')[1])\n",
    "    except:\n",
    "        pass"
   ]
  },
  {
   "cell_type": "code",
   "execution_count": 176,
   "metadata": {},
   "outputs": [
    {
     "data": {
      "image/png": "[encoded data removed]",
      "text/plain": [
       "<Figure size 864x432 with 1 Axes>"
      ]
     },
     "metadata": {
      "needs_background": "light"
     },
     "output_type": "display_data"
    }
   ],
   "source": [
    "plt.figure(figsize=(12,6))\n",
    "\n",
    "data['Location'].value_counts().head(10).plot(kind='bar')\n",
    "\n",
    "# 在柱形上方显示计数\n",
    "counts = data['Location'].value_counts().values\n",
    "for index, item in zip(np.arange(10), counts): \n",
    "    plt.text(index, item, item, ha=\"center\", va= \"bottom\", fontsize=12) \n",
    "    \n",
    "plt.xlabel('飞机型号')\n",
    "plt.ylabel('次数')\n",
    "plt.title('空难次数最多的发生地点')\n",
    "plt.show()"
   ]
  },
  {
   "cell_type": "markdown",
   "metadata": {},
   "source": [
    "可以看到：莫斯科、圣保罗、里约热内卢、马尼拉等城市发生空难的次数较多。接下来我们选取空难次数最多的前10个飞行航线。"
   ]
  },
  {
   "cell_type": "code",
   "execution_count": 177,
   "metadata": {},
   "outputs": [
    {
     "data": {
      "image/png": "[encoded data removed]",
      "text/plain": [
       "<Figure size 864x432 with 1 Axes>"
      ]
     },
     "metadata": {
      "needs_background": "light"
     },
     "output_type": "display_data"
    }
   ],
   "source": [
    "plt.figure(figsize=(12,6))\n",
    "\n",
    "data['Route'].value_counts().head(10).plot(kind='bar')\n",
    "\n",
    "# 在柱形上方显示计数\n",
    "counts = data['Route'].value_counts().values\n",
    "for index, item in zip(np.arange(10), counts): \n",
    "    plt.text(index, item, item, ha=\"center\", va= \"bottom\", fontsize=12) \n",
    "    \n",
    "plt.xlabel('飞行航线')\n",
    "plt.ylabel('次数')\n",
    "plt.title('空难次数最多的飞行航线')\n",
    "plt.show()"
   ]
  },
  {
   "cell_type": "markdown",
   "metadata": {},
   "source": [
    "可以看到：\n",
    "+ 在日常训练、观光、测试飞行航线造成的空难次数较多。\n",
    "+ 正式飞行航线中，圣保罗 - 里约热内卢，比亚维森西奥 - 米图，西贡 - 巴黎，波哥大 - 巴兰基亚，圣保罗 - 阿雷格里港等航线空难次数较多。"
   ]
  },
  {
   "cell_type": "markdown",
   "metadata": {},
   "source": [
    "# 8.中国飞机的空难分析"
   ]
  },
  {
   "cell_type": "markdown",
   "metadata": {},
   "source": [
    "接下来，我们单独分析一下中国航班的空难情况。我们首先选取出中国航班，通过在航空公司中匹配关键词`China`和`Taiwan`，筛选出中国空难的航班数据，保存在变量`china_flights`中。"
   ]
  },
  {
   "cell_type": "code",
   "execution_count": 178,
   "metadata": {},
   "outputs": [
    {
     "name": "stdout",
     "output_type": "stream",
     "text": [
      "中国飞机的空难记录数为： 84 \n",
      "\n",
      "航空公司分别为：\n",
      " China National Aviation Corporation                44\n",
      "China Airlines (Taiwan)                            14\n",
      "Taiwan Airlines                                     4\n",
      "China Eastern Airlines                              4\n",
      "Military - Republiof China Air Force                4\n",
      "China Southwest Airlines                            2\n",
      "China Southern Airlines                             2\n",
      "China Northern Airlines                             2\n",
      "China Northwest Airlines                            2\n",
      "Air China                                           1\n",
      "China Southwest Airlines / Xiamen Airlines          1\n",
      "China Flying Dragon Aviation (Feilong Airlines)     1\n",
      "China Air Lines                                     1\n",
      "Taiwan Aviation                                     1\n",
      "China General Aviation Corporation                  1\n",
      "Name: Operator, dtype: int64\n"
     ]
    }
   ],
   "source": [
    "china_flights = data[data['Operator'].str.contains('China|Taiwan')]\n",
    "print('中国飞机的空难记录数为：',len(china_flights),'\\n')\n",
    "print('航空公司分别为：\\n',china_flights['Operator'].value_counts())"
   ]
  },
  {
   "cell_type": "markdown",
   "metadata": {},
   "source": [
    "可以看到，我们选取出84条中国空难记录，其中国航和中华航空(台湾)空难数最多，其次是台湾航空、中国东航和中国空军。接下来，我们将中国飞机的空难情况按`年`进行分组，分析每年的空难次数。"
   ]
  },
  {
   "cell_type": "code",
   "execution_count": 179,
   "metadata": {
    "scrolled": true
   },
   "outputs": [
    {
     "data": {
      "image/png": "[encoded data removed]",
      "text/plain": [
       "<Figure size 1152x1440 with 2 Axes>"
      ]
     },
     "metadata": {
      "needs_background": "light"
     },
     "output_type": "display_data"
    }
   ],
   "source": [
    "fig,[ax1,ax2] = plt.subplots(2,1,figsize=(16,20))\n",
    "\n",
    "china_flights.groupby(china_flights.Date.dt.year).size().plot(color = 'blue', marker = \".\", linewidth = 1,ax = ax1)\n",
    "china_flights.groupby(china_flights.Date.dt.year).size().plot(kind = 'pie',autopct='%1.1f%%',ax = ax2)\n",
    "\n",
    "ax1.set_xlabel('年份')\n",
    "ax1.set_ylabel('次数')\n",
    "ax1.set_title('中国每年的空难次数')\n",
    "ax2.set_title('中国每年的空难占比')\n",
    "\n",
    "plt.show()"
   ]
  },
  {
   "cell_type": "markdown",
   "metadata": {},
   "source": [
    "我们可以很明显的看到，中国空难数量在1940年代出现了巨幅的上升，而后又迅速下降。接下来我们单独把1940-1950年的空难发生数据进行分析。"
   ]
  },
  {
   "cell_type": "code",
   "execution_count": 180,
   "metadata": {},
   "outputs": [
    {
     "name": "stdout",
     "output_type": "stream",
     "text": [
      "中国在1940-1950年空难次数: 34 \n",
      "乘客遇难人数: 374.0\n",
      "中国在1940-1950年空难机型:\n",
      " Douglas C-47                15\n",
      "Douglas C-53                 4\n",
      "Douglas DC-3                 4\n",
      "Curtiss C-46                 2\n",
      "Douglas DC-2                 2\n",
      "Unknown                      2\n",
      "Douglas C-54B-5-DO           1\n",
      "Ford 5-AT Tri-Motor          1\n",
      "Curtiss C-46, C-47, DC-3     1\n",
      "Douglas DC-2-221             1\n",
      "Douglas DC-4                 1\n",
      "Name: Type, dtype: int64\n"
     ]
    }
   ],
   "source": [
    "war_flights = china_flights[(china_flights['Date'] >= pd.Timestamp(1940,1,1)) & (china_flights['Date'] <= pd.Timestamp(1950,1,1))]\n",
    "print('中国在1940-1950年空难次数:',len(war_flights),'\\n乘客遇难人数:',war_flights['Fatalities'].sum())\n",
    "print('中国在1940-1950年空难机型:\\n',war_flights['Type'].value_counts())"
   ]
  },
  {
   "cell_type": "markdown",
   "metadata": {},
   "source": [
    "可以看到\n",
    "+ 1940-1950，时间正值二战和解放战争期间。这期间发生空难的机型主要是C-47和C-53两种，这两型飞机是二战中，中国使用的最主要的两种军用运输机。这说明1940年代剧增的空难数的确是战争造成的。\n",
    "+ 在此期间共发生了34起空难，占到了中国总空难数的40.4%，共有374人遇难。"
   ]
  },
  {
   "cell_type": "markdown",
   "metadata": {},
   "source": [
    "# 9.总结"
   ]
  },
  {
   "cell_type": "markdown",
   "metadata": {},
   "source": [
    "\n",
    "首先我们对部分缺失值进行了填充，分析了几个伤亡最大的空难和对应的历史事件；\n",
    "接着我们按照时间进行分组，分析了每年的空难发生情况和遇难情况；接着我们按照航空公司进行分组，展示了空难数最多的航空公司和对应的空难次数；\n",
    "然后我们分别对比了军用航班和民用航班的空难情况；接着分析了不同的飞机型号、不同的航线与不同的失事地点的空难情况；最后选取了中国航班数据，按照时间段分析了中国航空的空难情况。\n",
    "\n",
    "\n",
    "\n"
   ]
  },
  {
   "cell_type": "code",
   "execution_count": null,
   "metadata": {},
   "outputs": [],
   "source": []
  }
 ],
 "metadata": {
  "kernelspec": {
   "display_name": "Python 3",
   "language": "python",
   "name": "python3"
  },
  "language_info": {
   "codemirror_mode": {
    "name": "ipython",
    "version": 3
   },
   "file_extension": ".py",
   "mimetype": "text/x-python",
   "name": "python",
   "nbconvert_exporter": "python",
   "pygments_lexer": "ipython3",
   "version": "3.7.1"
  }
 },
 "nbformat": 4,
 "nbformat_minor": 2
}
